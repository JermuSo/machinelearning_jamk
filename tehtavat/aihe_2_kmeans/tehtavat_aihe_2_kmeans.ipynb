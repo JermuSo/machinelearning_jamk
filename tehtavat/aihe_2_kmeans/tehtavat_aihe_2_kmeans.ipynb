{
 "cells": [
  {
   "cell_type": "markdown",
   "id": "bfc3ded7",
   "metadata": {
    "pycharm": {
     "name": "#%% md\n"
    }
   },
   "source": [
    "# Koneoppiminen: Tehtävä 2:  KMeans-klusterointi (max. 8p)\n",
    "\n",
    "**KMeans**-klusterointitekniikka on yksi ohjaamattoman oppimisen tekniikka.\n",
    "\n",
    "**Muista** kirjoittaa alle omat tietosi."
   ]
  },
  {
   "cell_type": "code",
   "execution_count": 1,
   "id": "a8ccd508",
   "metadata": {
    "ExecuteTime": {
     "end_time": "2024-08-21T11:47:17.324054Z",
     "start_time": "2024-08-21T11:47:17.294133Z"
    },
    "pycharm": {
     "name": "#%%\n"
    }
   },
   "outputs": [
    {
     "data": {
      "text/plain": [
       "'\\nKiirettä pitää kun aloitti kurssit myöhemmin, mutta ei anneta sen haitata! tässä vähän välipohdintaa.\\n\\nToivottavasti ymmärsin tehtävät oikein. Kun tein viimeisen tehtävän niin palasin aijempiin tehtäviin ja\\nmuuttelin nimiä jotta sain tehtyä palkkikuvaajat molemmista tehtävistä 2.2 sekä 2.3.\\n\\nOn mielenkiintoista nähdä miten pelkkää tulosta katsomalla voisi luulla että 2.2 tehtävä oli\\nonnistuneempi sillä klusterin pisteillä on huomattavasti vähemmän keskiarvoista matkaa klusterin keski-\\npisteelle kuin 2.3. kohdassa. Tämähän ei kuitenkaan ole onnistunut klusterointi ja tämä\\nnähdään tässä tapauksessa helposti silmällä. Voisi olettaa että n_clusters=8 malli on ylioppinut?\\n\\nn_clusters=3 kuvaa paremmin todellista klusterointirakennetta.\\n'"
      ]
     },
     "execution_count": 1,
     "metadata": {},
     "output_type": "execute_result"
    }
   ],
   "source": [
    "# Kirjoita tähän tietosi!\n",
    "student_name = 'Jere Soininen'\n",
    "student_id = 'AB6802'\n",
    "\n",
    "\"\"\"\n",
    "Kiirettä pitää kun aloitti kurssit myöhemmin, mutta ei anneta sen haitata! tässä vähän välipohdintaa.\n",
    "\n",
    "Toivottavasti ymmärsin tehtävät oikein. Kun tein viimeisen tehtävän niin palasin aijempiin tehtäviin ja\n",
    "muuttelin nimiä jotta sain tehtyä palkkikuvaajat molemmista tehtävistä 2.2 sekä 2.3.\n",
    "\n",
    "On mielenkiintoista nähdä miten pelkkää tulosta katsomalla voisi luulla että 2.2 tehtävä oli\n",
    "onnistuneempi sillä klusterin pisteillä on huomattavasti vähemmän keskiarvoista matkaa klusterin keski-\n",
    "pisteelle kuin 2.3. kohdassa. Tämähän ei kuitenkaan ole onnistunut klusterointi ja tämä\n",
    "nähdään tässä tapauksessa helposti silmällä. Voisi olettaa että n_clusters=8 malli on ylioppinut?\n",
    "\n",
    "n_clusters=3 kuvaa paremmin todellista klusterointirakennetta.\n",
    "\"\"\""
   ]
  },
  {
   "cell_type": "markdown",
   "id": "598f07462a52ee0c",
   "metadata": {
    "collapsed": false,
    "jupyter": {
     "outputs_hidden": false
    }
   },
   "source": [
    "Tutki tehtävää varten myös seuraavat scikit Learn -manuaalisivut:\n",
    "* [Clustering](https://scikit-learn.org/stable/modules/clustering.html)\n",
    "* [KMeans](https://scikit-learn.org/stable/modules/generated/sklearn.cluster.KMeans.html#sklearn.cluster.KMeans)"
   ]
  },
  {
   "cell_type": "markdown",
   "id": "36d4dbdd",
   "metadata": {
    "pycharm": {
     "name": "#%% md\n"
    }
   },
   "source": [
    "## Tehtävä 2: KMeans-harjoitus\n",
    "\n",
    "Harjoituksessa generoidaan **synteettistä aineistoa** ja käytetään kolmea toisistaan erottuvaa klusteria, jotka\n",
    "pystytään piirtämään X/Y-koordinaatistoon."
   ]
  },
  {
   "cell_type": "code",
   "execution_count": 2,
   "id": "a5576177",
   "metadata": {
    "ExecuteTime": {
     "end_time": "2024-08-21T11:47:22.963970Z",
     "start_time": "2024-08-21T11:47:17.331036Z"
    },
    "pycharm": {
     "name": "#%%\n"
    }
   },
   "outputs": [
    {
     "data": {
      "text/plain": [
       "'\\n# TODO: Tätä funktiota käytetään tehtävässä 2.4, siirrän tämän helpottaakseni koodin lukua\\ndef k_mean_distance(data, cx, cy, i_centroid, cluster_labels):\\n    distances = [np.sqrt((x - cx) ** 2 + (y - cy) ** 2) for (x, y) in data[cluster_labels == i_centroid]]\\n    return np.mean(distances)\\n'"
      ]
     },
     "execution_count": 2,
     "metadata": {},
     "output_type": "execute_result"
    }
   ],
   "source": [
    "import numpy as np\n",
    "import matplotlib.pyplot as plt\n",
    "from sklearn.cluster import KMeans\n",
    "\"\"\"\n",
    "# TODO: Tätä funktiota käytetään tehtävässä 2.4, siirrän tämän helpottaakseni koodin lukua\n",
    "def k_mean_distance(data, cx, cy, i_centroid, cluster_labels):\n",
    "    distances = [np.sqrt((x - cx) ** 2 + (y - cy) ** 2) for (x, y) in data[cluster_labels == i_centroid]]\n",
    "    return np.mean(distances)\n",
    "\"\"\""
   ]
  },
  {
   "cell_type": "markdown",
   "id": "ee945f1a",
   "metadata": {
    "pycharm": {
     "name": "#%% md\n"
    }
   },
   "source": [
    "## Tehtävä 2.1\n",
    "### Aihe: Synteettisen aineiston generointi (2 pistettä)\n",
    "\n",
    "Generoidaan satunnaista dataa NumPy-matriisiin ja jaetaan joukko kolmeen osaan, joissa kaikissa on 100 pistettä.\n",
    "Pisteet voi generoida esim. NumPyn funktiolla `np.random.rand()`, mutta generointitapa on vapaa.\n",
    "* Satunnaisuudesta seuraa, että pistejoukko on joka ajokerralla erilainen\n",
    "\n",
    "Pistejoukot generoidaan satunnaisluvuilla käyttäen seuraavia \"lukualueita\":\n",
    "\n",
    "* **100** pistettä, joiden (x, y) arvot ovat välillä **[[-1, 0], [-1, 0]]**\n",
    "* **100** pistettä, joiden (x, y) arvot ovat välillä **[[1, 2], [1, 2]]**\n",
    "* **100** pistettä, joiden (x, y) arvot ovat välillä **[[2, 3], [3, 4]]**\n",
    "\n",
    "Yhteensä generoituja pisteitä on samassa matriisissa 300 kappaletta. "
   ]
  },
  {
   "cell_type": "code",
   "execution_count": 3,
   "id": "908c985d",
   "metadata": {
    "ExecuteTime": {
     "end_time": "2024-08-21T11:47:22.979928Z",
     "start_time": "2024-08-21T11:47:22.966963Z"
    },
    "pycharm": {
     "name": "#%%\n"
    }
   },
   "outputs": [
    {
     "name": "stdout",
     "output_type": "stream",
     "text": [
      "Matriisin pituus: 300\n"
     ]
    }
   ],
   "source": [
    "# TODO: Generoi yhteensä 300 pistettä, joissa kaikissa arvot ovat erillisissä arvojoukoissa\n",
    "points_1 = np.random.rand(100, 2) - 1\n",
    "points_2 = np.random.rand(100, 2) + 1\n",
    "points_3 = np.random.rand(100, 2)\n",
    "points_3[:, 0] += 2\n",
    "points_3[:, 1] += 3\n",
    "# TODO: Yhdistä generoitujen matriisien arvot yhteen datajoukkoon\n",
    "all_points = np.vstack((points_1, points_2, points_3))\n",
    "# TODO: sekoita arvot ennen seuraavaa vaihetta\n",
    "np.random.shuffle(all_points)\n",
    "X = all_points\n",
    "\n",
    "# Tulostetaan taulukon koko\n",
    "print(f\"Matriisin pituus: {len(X)}\")"
   ]
  },
  {
   "cell_type": "markdown",
   "id": "876042d25f34faf",
   "metadata": {
    "collapsed": false,
    "jupyter": {
     "outputs_hidden": false
    },
    "pycharm": {
     "name": "#%% md\n"
    }
   },
   "source": [
    "## Tehtävä 2.2\n",
    "### Aihe: K-Means -klusterointi ja piirtäminen (2 pistettä)\n",
    "\n",
    "Suorita **klusterointi** aineistolle käyttäen `scikit-learn`-kirjaston `cluster`-moduulin tarjoamaa\n",
    "[k-means -menetelmää](https://scikit-learn.org/stable/modules/generated/sklearn.cluster.k_means.html).\n",
    "\n",
    "**KMeans**-algoritmiä käytettäessä mahdollisten klusterien määrä voidaan asettaa etukäteen, mutta tässä ne ajetaan oletuksilla.\n"
   ]
  },
  {
   "cell_type": "code",
   "execution_count": 4,
   "id": "c077f3e992aaea04",
   "metadata": {
    "ExecuteTime": {
     "end_time": "2024-08-21T11:47:22.995887Z",
     "start_time": "2024-08-21T11:47:22.982920Z"
    },
    "collapsed": false,
    "jupyter": {
     "outputs_hidden": false
    },
    "pycharm": {
     "name": "#%%\n"
    }
   },
   "outputs": [
    {
     "data": {
      "text/html": [
       "<style>#sk-container-id-1 {\n",
       "  /* Definition of color scheme common for light and dark mode */\n",
       "  --sklearn-color-text: black;\n",
       "  --sklearn-color-line: gray;\n",
       "  /* Definition of color scheme for unfitted estimators */\n",
       "  --sklearn-color-unfitted-level-0: #fff5e6;\n",
       "  --sklearn-color-unfitted-level-1: #f6e4d2;\n",
       "  --sklearn-color-unfitted-level-2: #ffe0b3;\n",
       "  --sklearn-color-unfitted-level-3: chocolate;\n",
       "  /* Definition of color scheme for fitted estimators */\n",
       "  --sklearn-color-fitted-level-0: #f0f8ff;\n",
       "  --sklearn-color-fitted-level-1: #d4ebff;\n",
       "  --sklearn-color-fitted-level-2: #b3dbfd;\n",
       "  --sklearn-color-fitted-level-3: cornflowerblue;\n",
       "\n",
       "  /* Specific color for light theme */\n",
       "  --sklearn-color-text-on-default-background: var(--sg-text-color, var(--theme-code-foreground, var(--jp-content-font-color1, black)));\n",
       "  --sklearn-color-background: var(--sg-background-color, var(--theme-background, var(--jp-layout-color0, white)));\n",
       "  --sklearn-color-border-box: var(--sg-text-color, var(--theme-code-foreground, var(--jp-content-font-color1, black)));\n",
       "  --sklearn-color-icon: #696969;\n",
       "\n",
       "  @media (prefers-color-scheme: dark) {\n",
       "    /* Redefinition of color scheme for dark theme */\n",
       "    --sklearn-color-text-on-default-background: var(--sg-text-color, var(--theme-code-foreground, var(--jp-content-font-color1, white)));\n",
       "    --sklearn-color-background: var(--sg-background-color, var(--theme-background, var(--jp-layout-color0, #111)));\n",
       "    --sklearn-color-border-box: var(--sg-text-color, var(--theme-code-foreground, var(--jp-content-font-color1, white)));\n",
       "    --sklearn-color-icon: #878787;\n",
       "  }\n",
       "}\n",
       "\n",
       "#sk-container-id-1 {\n",
       "  color: var(--sklearn-color-text);\n",
       "}\n",
       "\n",
       "#sk-container-id-1 pre {\n",
       "  padding: 0;\n",
       "}\n",
       "\n",
       "#sk-container-id-1 input.sk-hidden--visually {\n",
       "  border: 0;\n",
       "  clip: rect(1px 1px 1px 1px);\n",
       "  clip: rect(1px, 1px, 1px, 1px);\n",
       "  height: 1px;\n",
       "  margin: -1px;\n",
       "  overflow: hidden;\n",
       "  padding: 0;\n",
       "  position: absolute;\n",
       "  width: 1px;\n",
       "}\n",
       "\n",
       "#sk-container-id-1 div.sk-dashed-wrapped {\n",
       "  border: 1px dashed var(--sklearn-color-line);\n",
       "  margin: 0 0.4em 0.5em 0.4em;\n",
       "  box-sizing: border-box;\n",
       "  padding-bottom: 0.4em;\n",
       "  background-color: var(--sklearn-color-background);\n",
       "}\n",
       "\n",
       "#sk-container-id-1 div.sk-container {\n",
       "  /* jupyter's `normalize.less` sets `[hidden] { display: none; }`\n",
       "     but bootstrap.min.css set `[hidden] { display: none !important; }`\n",
       "     so we also need the `!important` here to be able to override the\n",
       "     default hidden behavior on the sphinx rendered scikit-learn.org.\n",
       "     See: https://github.com/scikit-learn/scikit-learn/issues/21755 */\n",
       "  display: inline-block !important;\n",
       "  position: relative;\n",
       "}\n",
       "\n",
       "#sk-container-id-1 div.sk-text-repr-fallback {\n",
       "  display: none;\n",
       "}\n",
       "\n",
       "div.sk-parallel-item,\n",
       "div.sk-serial,\n",
       "div.sk-item {\n",
       "  /* draw centered vertical line to link estimators */\n",
       "  background-image: linear-gradient(var(--sklearn-color-text-on-default-background), var(--sklearn-color-text-on-default-background));\n",
       "  background-size: 2px 100%;\n",
       "  background-repeat: no-repeat;\n",
       "  background-position: center center;\n",
       "}\n",
       "\n",
       "/* Parallel-specific style estimator block */\n",
       "\n",
       "#sk-container-id-1 div.sk-parallel-item::after {\n",
       "  content: \"\";\n",
       "  width: 100%;\n",
       "  border-bottom: 2px solid var(--sklearn-color-text-on-default-background);\n",
       "  flex-grow: 1;\n",
       "}\n",
       "\n",
       "#sk-container-id-1 div.sk-parallel {\n",
       "  display: flex;\n",
       "  align-items: stretch;\n",
       "  justify-content: center;\n",
       "  background-color: var(--sklearn-color-background);\n",
       "  position: relative;\n",
       "}\n",
       "\n",
       "#sk-container-id-1 div.sk-parallel-item {\n",
       "  display: flex;\n",
       "  flex-direction: column;\n",
       "}\n",
       "\n",
       "#sk-container-id-1 div.sk-parallel-item:first-child::after {\n",
       "  align-self: flex-end;\n",
       "  width: 50%;\n",
       "}\n",
       "\n",
       "#sk-container-id-1 div.sk-parallel-item:last-child::after {\n",
       "  align-self: flex-start;\n",
       "  width: 50%;\n",
       "}\n",
       "\n",
       "#sk-container-id-1 div.sk-parallel-item:only-child::after {\n",
       "  width: 0;\n",
       "}\n",
       "\n",
       "/* Serial-specific style estimator block */\n",
       "\n",
       "#sk-container-id-1 div.sk-serial {\n",
       "  display: flex;\n",
       "  flex-direction: column;\n",
       "  align-items: center;\n",
       "  background-color: var(--sklearn-color-background);\n",
       "  padding-right: 1em;\n",
       "  padding-left: 1em;\n",
       "}\n",
       "\n",
       "\n",
       "/* Toggleable style: style used for estimator/Pipeline/ColumnTransformer box that is\n",
       "clickable and can be expanded/collapsed.\n",
       "- Pipeline and ColumnTransformer use this feature and define the default style\n",
       "- Estimators will overwrite some part of the style using the `sk-estimator` class\n",
       "*/\n",
       "\n",
       "/* Pipeline and ColumnTransformer style (default) */\n",
       "\n",
       "#sk-container-id-1 div.sk-toggleable {\n",
       "  /* Default theme specific background. It is overwritten whether we have a\n",
       "  specific estimator or a Pipeline/ColumnTransformer */\n",
       "  background-color: var(--sklearn-color-background);\n",
       "}\n",
       "\n",
       "/* Toggleable label */\n",
       "#sk-container-id-1 label.sk-toggleable__label {\n",
       "  cursor: pointer;\n",
       "  display: block;\n",
       "  width: 100%;\n",
       "  margin-bottom: 0;\n",
       "  padding: 0.5em;\n",
       "  box-sizing: border-box;\n",
       "  text-align: center;\n",
       "}\n",
       "\n",
       "#sk-container-id-1 label.sk-toggleable__label-arrow:before {\n",
       "  /* Arrow on the left of the label */\n",
       "  content: \"▸\";\n",
       "  float: left;\n",
       "  margin-right: 0.25em;\n",
       "  color: var(--sklearn-color-icon);\n",
       "}\n",
       "\n",
       "#sk-container-id-1 label.sk-toggleable__label-arrow:hover:before {\n",
       "  color: var(--sklearn-color-text);\n",
       "}\n",
       "\n",
       "/* Toggleable content - dropdown */\n",
       "\n",
       "#sk-container-id-1 div.sk-toggleable__content {\n",
       "  max-height: 0;\n",
       "  max-width: 0;\n",
       "  overflow: hidden;\n",
       "  text-align: left;\n",
       "  /* unfitted */\n",
       "  background-color: var(--sklearn-color-unfitted-level-0);\n",
       "}\n",
       "\n",
       "#sk-container-id-1 div.sk-toggleable__content.fitted {\n",
       "  /* fitted */\n",
       "  background-color: var(--sklearn-color-fitted-level-0);\n",
       "}\n",
       "\n",
       "#sk-container-id-1 div.sk-toggleable__content pre {\n",
       "  margin: 0.2em;\n",
       "  border-radius: 0.25em;\n",
       "  color: var(--sklearn-color-text);\n",
       "  /* unfitted */\n",
       "  background-color: var(--sklearn-color-unfitted-level-0);\n",
       "}\n",
       "\n",
       "#sk-container-id-1 div.sk-toggleable__content.fitted pre {\n",
       "  /* unfitted */\n",
       "  background-color: var(--sklearn-color-fitted-level-0);\n",
       "}\n",
       "\n",
       "#sk-container-id-1 input.sk-toggleable__control:checked~div.sk-toggleable__content {\n",
       "  /* Expand drop-down */\n",
       "  max-height: 200px;\n",
       "  max-width: 100%;\n",
       "  overflow: auto;\n",
       "}\n",
       "\n",
       "#sk-container-id-1 input.sk-toggleable__control:checked~label.sk-toggleable__label-arrow:before {\n",
       "  content: \"▾\";\n",
       "}\n",
       "\n",
       "/* Pipeline/ColumnTransformer-specific style */\n",
       "\n",
       "#sk-container-id-1 div.sk-label input.sk-toggleable__control:checked~label.sk-toggleable__label {\n",
       "  color: var(--sklearn-color-text);\n",
       "  background-color: var(--sklearn-color-unfitted-level-2);\n",
       "}\n",
       "\n",
       "#sk-container-id-1 div.sk-label.fitted input.sk-toggleable__control:checked~label.sk-toggleable__label {\n",
       "  background-color: var(--sklearn-color-fitted-level-2);\n",
       "}\n",
       "\n",
       "/* Estimator-specific style */\n",
       "\n",
       "/* Colorize estimator box */\n",
       "#sk-container-id-1 div.sk-estimator input.sk-toggleable__control:checked~label.sk-toggleable__label {\n",
       "  /* unfitted */\n",
       "  background-color: var(--sklearn-color-unfitted-level-2);\n",
       "}\n",
       "\n",
       "#sk-container-id-1 div.sk-estimator.fitted input.sk-toggleable__control:checked~label.sk-toggleable__label {\n",
       "  /* fitted */\n",
       "  background-color: var(--sklearn-color-fitted-level-2);\n",
       "}\n",
       "\n",
       "#sk-container-id-1 div.sk-label label.sk-toggleable__label,\n",
       "#sk-container-id-1 div.sk-label label {\n",
       "  /* The background is the default theme color */\n",
       "  color: var(--sklearn-color-text-on-default-background);\n",
       "}\n",
       "\n",
       "/* On hover, darken the color of the background */\n",
       "#sk-container-id-1 div.sk-label:hover label.sk-toggleable__label {\n",
       "  color: var(--sklearn-color-text);\n",
       "  background-color: var(--sklearn-color-unfitted-level-2);\n",
       "}\n",
       "\n",
       "/* Label box, darken color on hover, fitted */\n",
       "#sk-container-id-1 div.sk-label.fitted:hover label.sk-toggleable__label.fitted {\n",
       "  color: var(--sklearn-color-text);\n",
       "  background-color: var(--sklearn-color-fitted-level-2);\n",
       "}\n",
       "\n",
       "/* Estimator label */\n",
       "\n",
       "#sk-container-id-1 div.sk-label label {\n",
       "  font-family: monospace;\n",
       "  font-weight: bold;\n",
       "  display: inline-block;\n",
       "  line-height: 1.2em;\n",
       "}\n",
       "\n",
       "#sk-container-id-1 div.sk-label-container {\n",
       "  text-align: center;\n",
       "}\n",
       "\n",
       "/* Estimator-specific */\n",
       "#sk-container-id-1 div.sk-estimator {\n",
       "  font-family: monospace;\n",
       "  border: 1px dotted var(--sklearn-color-border-box);\n",
       "  border-radius: 0.25em;\n",
       "  box-sizing: border-box;\n",
       "  margin-bottom: 0.5em;\n",
       "  /* unfitted */\n",
       "  background-color: var(--sklearn-color-unfitted-level-0);\n",
       "}\n",
       "\n",
       "#sk-container-id-1 div.sk-estimator.fitted {\n",
       "  /* fitted */\n",
       "  background-color: var(--sklearn-color-fitted-level-0);\n",
       "}\n",
       "\n",
       "/* on hover */\n",
       "#sk-container-id-1 div.sk-estimator:hover {\n",
       "  /* unfitted */\n",
       "  background-color: var(--sklearn-color-unfitted-level-2);\n",
       "}\n",
       "\n",
       "#sk-container-id-1 div.sk-estimator.fitted:hover {\n",
       "  /* fitted */\n",
       "  background-color: var(--sklearn-color-fitted-level-2);\n",
       "}\n",
       "\n",
       "/* Specification for estimator info (e.g. \"i\" and \"?\") */\n",
       "\n",
       "/* Common style for \"i\" and \"?\" */\n",
       "\n",
       ".sk-estimator-doc-link,\n",
       "a:link.sk-estimator-doc-link,\n",
       "a:visited.sk-estimator-doc-link {\n",
       "  float: right;\n",
       "  font-size: smaller;\n",
       "  line-height: 1em;\n",
       "  font-family: monospace;\n",
       "  background-color: var(--sklearn-color-background);\n",
       "  border-radius: 1em;\n",
       "  height: 1em;\n",
       "  width: 1em;\n",
       "  text-decoration: none !important;\n",
       "  margin-left: 1ex;\n",
       "  /* unfitted */\n",
       "  border: var(--sklearn-color-unfitted-level-1) 1pt solid;\n",
       "  color: var(--sklearn-color-unfitted-level-1);\n",
       "}\n",
       "\n",
       ".sk-estimator-doc-link.fitted,\n",
       "a:link.sk-estimator-doc-link.fitted,\n",
       "a:visited.sk-estimator-doc-link.fitted {\n",
       "  /* fitted */\n",
       "  border: var(--sklearn-color-fitted-level-1) 1pt solid;\n",
       "  color: var(--sklearn-color-fitted-level-1);\n",
       "}\n",
       "\n",
       "/* On hover */\n",
       "div.sk-estimator:hover .sk-estimator-doc-link:hover,\n",
       ".sk-estimator-doc-link:hover,\n",
       "div.sk-label-container:hover .sk-estimator-doc-link:hover,\n",
       ".sk-estimator-doc-link:hover {\n",
       "  /* unfitted */\n",
       "  background-color: var(--sklearn-color-unfitted-level-3);\n",
       "  color: var(--sklearn-color-background);\n",
       "  text-decoration: none;\n",
       "}\n",
       "\n",
       "div.sk-estimator.fitted:hover .sk-estimator-doc-link.fitted:hover,\n",
       ".sk-estimator-doc-link.fitted:hover,\n",
       "div.sk-label-container:hover .sk-estimator-doc-link.fitted:hover,\n",
       ".sk-estimator-doc-link.fitted:hover {\n",
       "  /* fitted */\n",
       "  background-color: var(--sklearn-color-fitted-level-3);\n",
       "  color: var(--sklearn-color-background);\n",
       "  text-decoration: none;\n",
       "}\n",
       "\n",
       "/* Span, style for the box shown on hovering the info icon */\n",
       ".sk-estimator-doc-link span {\n",
       "  display: none;\n",
       "  z-index: 9999;\n",
       "  position: relative;\n",
       "  font-weight: normal;\n",
       "  right: .2ex;\n",
       "  padding: .5ex;\n",
       "  margin: .5ex;\n",
       "  width: min-content;\n",
       "  min-width: 20ex;\n",
       "  max-width: 50ex;\n",
       "  color: var(--sklearn-color-text);\n",
       "  box-shadow: 2pt 2pt 4pt #999;\n",
       "  /* unfitted */\n",
       "  background: var(--sklearn-color-unfitted-level-0);\n",
       "  border: .5pt solid var(--sklearn-color-unfitted-level-3);\n",
       "}\n",
       "\n",
       ".sk-estimator-doc-link.fitted span {\n",
       "  /* fitted */\n",
       "  background: var(--sklearn-color-fitted-level-0);\n",
       "  border: var(--sklearn-color-fitted-level-3);\n",
       "}\n",
       "\n",
       ".sk-estimator-doc-link:hover span {\n",
       "  display: block;\n",
       "}\n",
       "\n",
       "/* \"?\"-specific style due to the `<a>` HTML tag */\n",
       "\n",
       "#sk-container-id-1 a.estimator_doc_link {\n",
       "  float: right;\n",
       "  font-size: 1rem;\n",
       "  line-height: 1em;\n",
       "  font-family: monospace;\n",
       "  background-color: var(--sklearn-color-background);\n",
       "  border-radius: 1rem;\n",
       "  height: 1rem;\n",
       "  width: 1rem;\n",
       "  text-decoration: none;\n",
       "  /* unfitted */\n",
       "  color: var(--sklearn-color-unfitted-level-1);\n",
       "  border: var(--sklearn-color-unfitted-level-1) 1pt solid;\n",
       "}\n",
       "\n",
       "#sk-container-id-1 a.estimator_doc_link.fitted {\n",
       "  /* fitted */\n",
       "  border: var(--sklearn-color-fitted-level-1) 1pt solid;\n",
       "  color: var(--sklearn-color-fitted-level-1);\n",
       "}\n",
       "\n",
       "/* On hover */\n",
       "#sk-container-id-1 a.estimator_doc_link:hover {\n",
       "  /* unfitted */\n",
       "  background-color: var(--sklearn-color-unfitted-level-3);\n",
       "  color: var(--sklearn-color-background);\n",
       "  text-decoration: none;\n",
       "}\n",
       "\n",
       "#sk-container-id-1 a.estimator_doc_link.fitted:hover {\n",
       "  /* fitted */\n",
       "  background-color: var(--sklearn-color-fitted-level-3);\n",
       "}\n",
       "</style><div id=\"sk-container-id-1\" class=\"sk-top-container\"><div class=\"sk-text-repr-fallback\"><pre>KMeans()</pre><b>In a Jupyter environment, please rerun this cell to show the HTML representation or trust the notebook. <br />On GitHub, the HTML representation is unable to render, please try loading this page with nbviewer.org.</b></div><div class=\"sk-container\" hidden><div class=\"sk-item\"><div class=\"sk-estimator fitted sk-toggleable\"><input class=\"sk-toggleable__control sk-hidden--visually\" id=\"sk-estimator-id-1\" type=\"checkbox\" checked><label for=\"sk-estimator-id-1\" class=\"sk-toggleable__label fitted sk-toggleable__label-arrow fitted\">&nbsp;&nbsp;KMeans<a class=\"sk-estimator-doc-link fitted\" rel=\"noreferrer\" target=\"_blank\" href=\"https://scikit-learn.org/1.5/modules/generated/sklearn.cluster.KMeans.html\">?<span>Documentation for KMeans</span></a><span class=\"sk-estimator-doc-link fitted\">i<span>Fitted</span></span></label><div class=\"sk-toggleable__content fitted\"><pre>KMeans()</pre></div> </div></div></div></div>"
      ],
      "text/plain": [
       "KMeans()"
      ]
     },
     "execution_count": 4,
     "metadata": {},
     "output_type": "execute_result"
    }
   ],
   "source": [
    "kmean = KMeans()\n",
    "# Haluaisin laittaa klustereiden määrän = 3 mutta ajetaan oletuksella(8?) ohjeen mukaan\n",
    "# TODO: Sovitetaan koko aineisto\n",
    "kmean.fit(X)"
   ]
  },
  {
   "cell_type": "markdown",
   "id": "379c40ac2632be2d",
   "metadata": {
    "collapsed": false,
    "jupyter": {
     "outputs_hidden": false
    },
    "pycharm": {
     "name": "#%% md\n"
    }
   },
   "source": [
    "Etsitään klusterien keskipisteet (centroids).\n",
    "Vinkki: `cluster_centers_`"
   ]
  },
  {
   "cell_type": "code",
   "execution_count": 5,
   "id": "7fb091226a2021a2",
   "metadata": {
    "ExecuteTime": {
     "end_time": "2024-08-21T11:47:23.011843Z",
     "start_time": "2024-08-21T11:47:22.999875Z"
    },
    "collapsed": false,
    "jupyter": {
     "outputs_hidden": false
    },
    "pycharm": {
     "name": "#%%\n"
    }
   },
   "outputs": [
    {
     "name": "stdout",
     "output_type": "stream",
     "text": [
      "Keskipisteiden lukumäärä 8 ja sijainnit: [[ 2.32808743  3.19799269]\n",
      " [-0.52700352 -0.7822884 ]\n",
      " [ 1.50974095  1.26621972]\n",
      " [-0.79450626 -0.23761269]\n",
      " [ 2.78678212  3.50331198]\n",
      " [ 1.59260394  1.71314713]\n",
      " [ 2.25268819  3.69579161]\n",
      " [-0.21187532 -0.33010401]]\n"
     ]
    }
   ],
   "source": [
    "# TODO: Klusterien keskipisteiden hakeminen\n",
    "centroids = kmean.cluster_centers_\n",
    "cluster_labels = kmean.labels_\n",
    "\n",
    "# Tulostetaan klustereiden keskipisteet ja niiden lukumäärä\n",
    "print(f\"Keskipisteiden lukumäärä {len(centroids)} ja sijainnit: {centroids}\")"
   ]
  },
  {
   "cell_type": "markdown",
   "id": "c128186ad259f33",
   "metadata": {
    "collapsed": false,
    "jupyter": {
     "outputs_hidden": false
    },
    "pycharm": {
     "name": "#%% md\n"
    }
   },
   "source": [
    "*Klusterien ja keskipisteiden piirtäminen*\n",
    "\n",
    "* Piirretään kaikki datapisteet scatter plot -kuvaajaa käyttäen.\n",
    "* Piirretään lasketut klusterien keskipisteet.\n",
    "Vinkki: `plt.scatter`"
   ]
  },
  {
   "cell_type": "code",
   "execution_count": 6,
   "id": "54aaf8cb11f464af",
   "metadata": {
    "ExecuteTime": {
     "end_time": "2024-08-21T11:47:23.027802Z",
     "start_time": "2024-08-21T11:47:23.016829Z"
    },
    "collapsed": false,
    "jupyter": {
     "outputs_hidden": false
    },
    "pycharm": {
     "name": "#%%\n"
    }
   },
   "outputs": [
    {
     "data": {
      "image/png": "[encoded data removed]",
      "text/plain": [
       "<Figure size 640x480 with 1 Axes>"
      ]
     },
     "metadata": {},
     "output_type": "display_data"
    }
   ],
   "source": [
    "# TODO: Piirretään pisteet scatter plot -kuvaajaan\n",
    "plt.scatter(X[:, 0], X[:, 1], c='#1f77b4')\n",
    "# TODO:  Piirretään lasketut klusterien keskipisteet (centroids)\n",
    "# Keskipisteitä piirtyy ilmeisesti liikaa koska ei ole määritetty n_clusters\n",
    "plt.scatter(centroids[:, 0], centroids[:, 1], c='black', s=100, alpha=0.8);"
   ]
  },
  {
   "cell_type": "markdown",
   "id": "b0b39d48e71f7a88",
   "metadata": {
    "collapsed": false,
    "jupyter": {
     "outputs_hidden": false
    },
    "pycharm": {
     "name": "#%% md\n"
    }
   },
   "source": [
    "## Tehtävä 2.3\n",
    "### Aihe: K-Means -klusterointi - keskipisteiden määrän asetus (2 pistettä)\n",
    "\n",
    "Asetetaan klusterien keskipisteiden (centroids) määräksi *optimaalinen lukumäärä*.\n",
    "\n",
    "Koska pistejoukko on tehtävässä yksinkertainen, niin optimaalisen klusterien lukumäärän voi tehtävässä nähdä tutkimalla pisteiden jakaantumista kuvion avulla.\n",
    "Optimaalisen klusterimäärän laskemiseen voi halutessaan käyttää myös muita tekniikoita (esim. *Silhouette Coefficient*).\n"
   ]
  },
  {
   "cell_type": "code",
   "execution_count": 7,
   "id": "dd2dfb8fe2ecdb15",
   "metadata": {
    "ExecuteTime": {
     "end_time": "2024-08-21T11:47:23.042761Z",
     "start_time": "2024-08-21T11:47:23.030792Z"
    },
    "collapsed": false,
    "jupyter": {
     "outputs_hidden": false
    },
    "pycharm": {
     "name": "#%%\n"
    }
   },
   "outputs": [
    {
     "name": "stdout",
     "output_type": "stream",
     "text": [
      "Keskipisteiden lukumäärä 3 ja sijainnit: [[ 1.54371477  1.44945996]\n",
      " [ 2.45457493  3.4630217 ]\n",
      " [-0.54137117 -0.4686372 ]]\n"
     ]
    }
   ],
   "source": [
    "# TODO: Asetetaan optimaalinen klusterimäärä kMeans-klusteroinnille\n",
    "kmean_3 = KMeans(n_clusters=3)\n",
    "kmean_3.fit(X)\n",
    "# TODO: Klusterien keskipisteiden hakeminen\n",
    "centroids_3 = kmean_3.cluster_centers_\n",
    "cluster_labels_3 = kmean_3.labels_\n",
    "# Tulostetaan klustereiden keskipisteet ja niiden lukumäärä\n",
    "print(f\"Keskipisteiden lukumäärä {len(centroids_3)} ja sijainnit: {centroids_3}\")"
   ]
  },
  {
   "cell_type": "markdown",
   "id": "faeeb1bac5af5bd1",
   "metadata": {
    "collapsed": false,
    "jupyter": {
     "outputs_hidden": false
    },
    "pycharm": {
     "name": "#%% md\n"
    }
   },
   "source": [
    "*Klusterien ja keskipisteiden piirtäminen*\n",
    "\n",
    "* Piirretään kaikki datapisteet scatter plot -kuvaajaa käyttäen.\n",
    "* Piirretään lasketut klusterien keskipisteet.\n",
    "Vinkki: `plt.scatter`"
   ]
  },
  {
   "cell_type": "code",
   "execution_count": 8,
   "id": "473bceac2c6e10a8",
   "metadata": {
    "ExecuteTime": {
     "end_time": "2024-08-21T11:47:23.057723Z",
     "start_time": "2024-08-21T11:47:23.046749Z"
    },
    "collapsed": false,
    "jupyter": {
     "outputs_hidden": false
    },
    "pycharm": {
     "name": "#%%\n"
    }
   },
   "outputs": [
    {
     "data": {
      "image/png": "[encoded data removed]",
      "text/plain": [
       "<Figure size 640x480 with 1 Axes>"
      ]
     },
     "metadata": {},
     "output_type": "display_data"
    }
   ],
   "source": [
    "# TODO: Piirretään pisteet scatter plot kuvaajaan\n",
    "plt.scatter(X[:, 0], X[:, 1], c='#1f77b4')\n",
    "# TODO:  Piirretään lasketut klusterien keskipisteet (centroids)\n",
    "plt.scatter(centroids_3[:, 0], centroids_3[:, 1], c='black', s=100, alpha=0.8);"
   ]
  },
  {
   "cell_type": "markdown",
   "id": "c9404e0f290d1791",
   "metadata": {
    "collapsed": false,
    "jupyter": {
     "outputs_hidden": false
    }
   },
   "source": [
    "Huom! **KMeans**-algoritmiä voi tuunata seuraavasti alla olevia parametreja muuttaen.\n",
    "\n",
    "    KMeans(algorithm='auto', copy_x=True, init='k-means++', max_iter=300,\n",
    "     n_clusters=2, n_init=10, n_jobs=1, precompute_distances='auto',\n",
    "     random_state=None, tol=0.0001, verbose=0)``"
   ]
  },
  {
   "cell_type": "markdown",
   "id": "4c6eb76f",
   "metadata": {
    "pycharm": {
     "name": "#%% md\n"
    }
   },
   "source": [
    "## Tehtävä 2.4:\n",
    "### Aihe: Klusterien etäisyydet viivadiagrammina (2 p)\n",
    "\n",
    "Piirretään erikseen jokaisen klusterien sisältämien pisteiden keskimääräiset etäisyydet tietyn klusterin keskustasta (centroid).\n",
    "* Piirrä erikseen tehtävissä 2.2 sekä 2.3 muodostuneet klusterit sekä niiden klustereiden sisältämien pisteiden etäisyys klusterin keskuksesta. \n",
    "* Piirrä kuvio pylväsdiagrammina\n",
    "* Pylväsdiagrammeja tulee kuvioon sama määrä kuin klustereita.  \n",
    "\n",
    "* käytetään piirtämiseen tämän dokumentin alussa annettua `k_mean_distance()`-funktiota\n",
    "\n",
    "Vinkki: `plt.plot`"
   ]
  },
  {
   "cell_type": "code",
   "execution_count": 9,
   "id": "1a7d720f1c703491",
   "metadata": {
    "ExecuteTime": {
     "end_time": "2024-08-21T11:47:23.073677Z",
     "start_time": "2024-08-21T11:47:23.060712Z"
    },
    "collapsed": false,
    "jupyter": {
     "outputs_hidden": false
    },
    "pycharm": {
     "name": "#%%\n"
    }
   },
   "outputs": [
    {
     "data": {
      "image/png": "[encoded data removed]",
      "text/plain": [
       "<Figure size 1000x500 with 2 Axes>"
      ]
     },
     "metadata": {},
     "output_type": "display_data"
    }
   ],
   "source": [
    "# TODO: Lasketaan ja piirretään klusterien pisteiden keskimääräiset etäisyydet keskustasta\n",
    "def k_mean_distance(data, cx, cy, i_centroid, cluster_labels):\n",
    "    # for looppi iteroi jokaisen pisteen x,y-muodossa X[i_centroid]- klusterista, ja vöhentää keskipisteen \n",
    "    # cx ja cy arvot näistä jolloin saamme tiedää klusteriin kuuluvan pisteen etäisyyden\n",
    "    # klusterin keskipisteetsä, onpas sekavaa kommentointia mutta yritän aidosti yymmärtää mitä tehdään\n",
    "    distances = [np.sqrt((x - cx) ** 2 + (y - cy) ** 2) for (x, y) in data[cluster_labels == i_centroid]]\n",
    "    return np.mean(distances)\n",
    "# Tyhjä lista cluster_distances keskimääräisille etäisyyksille\n",
    "cluster_distances = []\n",
    "# iteroidaan keskipisteiden sijainnit indekseille\n",
    "for i_centroid, (cx, cy) in enumerate(centroids):\n",
    "    # lasketaan saaduista matkoista keskiarvo keskipisteen indeksille ja lisätään ne cluster_distances listaan\n",
    "    avg_distance = k_mean_distance(X, cx, cy, i_centroid, cluster_labels)\n",
    "    cluster_distances.append(avg_distance)\n",
    "\n",
    "cluster_distances_3 = []\n",
    "\n",
    "for i_centroid, (cx, cy) in enumerate(centroids_3):\n",
    "    # lasketaan saaduista matkoista keskiarvo keskipisteen indeksille ja lisätään ne cluster_distances listaan\n",
    "    avg_distance = k_mean_distance(X, cx, cy, i_centroid, cluster_labels_3)\n",
    "    cluster_distances_3.append(avg_distance)\n",
    "\n",
    "# Piirretään kuva tehtävälle 2.2 (8 keskipistettä)\n",
    "plt.figure(figsize=(10, 5))\n",
    "\n",
    "plt.subplot(1, 2, 1)  # ensimmäinen kuva vierekkäin\n",
    "plt.bar(range(len(centroids)), cluster_distances, color='blue')  # Voit käyttää eri värejä\n",
    "plt.xlabel('Klusterin numero')\n",
    "plt.ylabel('Keskimääräinen etäisyys centroidiin')\n",
    "plt.title('Tehtävä 2.2: 8 keskipistettä')\n",
    "plt.grid(True)\n",
    "\n",
    "# Piirretään kuva tehtävälle 2.3 (3 keskipistettä)\n",
    "plt.subplot(1, 2, 2)  # toinen kuva vierekkäin\n",
    "plt.bar(range(len(centroids_3)), cluster_distances_3, color='green')  # Voit käyttää eri värejä\n",
    "plt.xlabel('Klusterin numero')\n",
    "plt.ylabel('Keskimääräinen etäisyys centroidiin')\n",
    "plt.title('Tehtävä 2.3: 3 keskipistettä')\n",
    "plt.grid(True)\n",
    "\n",
    "# Näytetään molemmat kuvat vierekkäin\n",
    "plt.tight_layout()\n",
    "plt.show()"
   ]
  },
  {
   "cell_type": "code",
   "execution_count": null,
   "id": "6ca733ca-6b75-42f5-a888-1a5161cdde92",
   "metadata": {},
   "outputs": [],
   "source": []
  }
 ],
 "metadata": {
  "jupytext": {
   "cell_metadata_filter": "-all",
   "main_language": "python",
   "notebook_metadata_filter": "-all"
  },
  "kernelspec": {
   "display_name": "Python 3 (ipykernel)",
   "language": "python",
   "name": "python3"
  },
  "language_info": {
   "codemirror_mode": {
    "name": "ipython",
    "version": 3
   },
   "file_extension": ".py",
   "mimetype": "text/x-python",
   "name": "python",
   "nbconvert_exporter": "python",
   "pygments_lexer": "ipython3",
   "version": "3.11.9"
  }
 },
 "nbformat": 4,
 "nbformat_minor": 5
}
