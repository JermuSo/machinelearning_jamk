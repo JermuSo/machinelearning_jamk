{
 "cells": [
  {
   "cell_type": "markdown",
   "id": "bfc3ded7",
   "metadata": {
    "pycharm": {
     "name": "#%% md\n"
    }
   },
   "source": [
    "# Koneoppiminen: Tehtävä 2:  KMeans-klusterointi (max. 8p)\n",
    "\n",
    "**KMeans**-klusterointitekniikka on yksi ohjaamattoman oppimisen tekniikka.\n",
    "\n",
    "**Muista** kirjoittaa alle omat tietosi."
   ]
  },
  {
   "cell_type": "code",
   "execution_count": 1,
   "id": "a8ccd508",
   "metadata": {
    "pycharm": {
     "name": "#%%\n"
    },
    "ExecuteTime": {
     "end_time": "2024-08-21T11:47:17.324054Z",
     "start_time": "2024-08-21T11:47:17.294133Z"
    }
   },
   "outputs": [],
   "source": [
    "# Kirjoita tähän tietosi!\n",
    "student_name = 'Opiskelijan nimi tai Opiskelijoiden nimet'\n",
    "student_id = 'JAMK-opiskelijatunnus tai JAMK-opiskelijatunnukset'"
   ]
  },
  {
   "cell_type": "markdown",
   "source": [
    "Tutki tehtävää varten myös seuraavat scikit Learn -manuaalisivut:\n",
    "* [Clustering](https://scikit-learn.org/stable/modules/clustering.html)\n",
    "* [KMeans](https://scikit-learn.org/stable/modules/generated/sklearn.cluster.KMeans.html#sklearn.cluster.KMeans)"
   ],
   "metadata": {
    "collapsed": false
   },
   "id": "598f07462a52ee0c"
  },
  {
   "cell_type": "markdown",
   "id": "36d4dbdd",
   "metadata": {
    "pycharm": {
     "name": "#%% md\n"
    }
   },
   "source": [
    "## Tehtävä 2: KMeans-harjoitus\n",
    "\n",
    "Harjoituksessa generoidaan **synteettistä aineistoa** ja käytetään kolmea toisistaan erottuvaa klusteria, jotka\n",
    "pystytään piirtämään X/Y-koordinaatistoon."
   ]
  },
  {
   "cell_type": "code",
   "execution_count": 2,
   "id": "a5576177",
   "metadata": {
    "pycharm": {
     "name": "#%%\n"
    },
    "ExecuteTime": {
     "end_time": "2024-08-21T11:47:22.963970Z",
     "start_time": "2024-08-21T11:47:17.331036Z"
    }
   },
   "outputs": [],
   "source": [
    "import numpy as np\n",
    "import matplotlib.pyplot as plt\n",
    "from sklearn.cluster import KMeans\n",
    "\n",
    "# TODO: Tätä funktiota käytetään tehtävässä 2.4\n",
    "def k_mean_distance(data, cx, cy, i_centroid, cluster_labels):\n",
    "    distances = [np.sqrt((x - cx) ** 2 + (y - cy) ** 2) for (x, y) in data[cluster_labels == i_centroid]]\n",
    "    return np.mean(distances)\n"
   ]
  },
  {
   "cell_type": "markdown",
   "id": "ee945f1a",
   "metadata": {
    "pycharm": {
     "name": "#%% md\n"
    }
   },
   "source": [
    "## Tehtävä 2.1\n",
    "### Aihe: Synteettisen aineiston generointi (2 pistettä)\n",
    "\n",
    "Generoidaan satunnaista dataa NumPy-matriisiin ja jaetaan joukko kolmeen osaan, joissa kaikissa on 100 pistettä.\n",
    "Pisteet voi generoida esim. NumPyn funktiolla `np.random.rand()`, mutta generointitapa on vapaa.\n",
    "* Satunnaisuudesta seuraa, että pistejoukko on joka ajokerralla erilainen\n",
    "\n",
    "Pistejoukot generoidaan satunnaisluvuilla käyttäen seuraavia \"lukualueita\":\n",
    "\n",
    "* **100** pistettä, joiden (x, y) arvot ovat välillä **[[-1, 0], [-1, 0]]**\n",
    "* **100** pistettä, joiden (x, y) arvot ovat välillä **[[1, 2], [1, 2]]**\n",
    "* **100** pistettä, joiden (x, y) arvot ovat välillä **[[2, 3], [3, 4]]**\n",
    "\n",
    "Yhteensä generoituja pisteitä on samassa matriisissa 300 kappaletta. "
   ]
  },
  {
   "cell_type": "code",
   "execution_count": 3,
   "id": "908c985d",
   "metadata": {
    "pycharm": {
     "name": "#%%\n"
    },
    "ExecuteTime": {
     "end_time": "2024-08-21T11:47:22.979928Z",
     "start_time": "2024-08-21T11:47:22.966963Z"
    }
   },
   "outputs": [
    {
     "name": "stdout",
     "output_type": "stream",
     "text": [
      "Matriisin pituus: 1\n"
     ]
    }
   ],
   "source": [
    "# TODO: Generoi yhteensä 300 pistettä, joissa kaikissa arvot ovat erillisissä arvojoukoissa\n",
    "# TODO: Yhdistä generoitujen matriisien arvot yhteen datajoukkoon\n",
    "# TODO: sekoita arvot ennen seuraavaa vaihetta\n",
    "X = [[]]\n",
    "\n",
    "# Tulostetaan taulukon koko\n",
    "print(f\"Matriisin pituus: {len(X)}\")"
   ]
  },
  {
   "cell_type": "markdown",
   "source": [
    "## Tehtävä 2.2\n",
    "### Aihe: K-Means -klusterointi ja piirtäminen (2 pistettä)\n",
    "\n",
    "Suorita **klusterointi** aineistolle käyttäen `scikit-learn`-kirjaston `cluster`-moduulin tarjoamaa\n",
    "[k-means -menetelmää](https://scikit-learn.org/stable/modules/generated/sklearn.cluster.k_means.html).\n",
    "\n",
    "**KMeans**-algoritmiä käytettäessä mahdollisten klusterien määrä voidaan asettaa etukäteen, mutta tässä ne ajetaan oletuksilla.\n"
   ],
   "metadata": {
    "collapsed": false,
    "pycharm": {
     "name": "#%% md\n"
    }
   },
   "id": "876042d25f34faf"
  },
  {
   "cell_type": "code",
   "execution_count": 4,
   "outputs": [],
   "source": [
    "kmean = KMeans()\n",
    "# TODO: Sovitetaan koko aineisto\n"
   ],
   "metadata": {
    "collapsed": false,
    "pycharm": {
     "name": "#%%\n"
    },
    "ExecuteTime": {
     "end_time": "2024-08-21T11:47:22.995887Z",
     "start_time": "2024-08-21T11:47:22.982920Z"
    }
   },
   "id": "c077f3e992aaea04"
  },
  {
   "cell_type": "markdown",
   "source": [
    "Etsitään klusterien keskipisteet (centroids).\n",
    "Vinkki: `cluster_centers_`"
   ],
   "metadata": {
    "collapsed": false,
    "pycharm": {
     "name": "#%% md\n"
    }
   },
   "id": "379c40ac2632be2d"
  },
  {
   "cell_type": "code",
   "execution_count": 5,
   "outputs": [
    {
     "name": "stdout",
     "output_type": "stream",
     "text": [
      "Keskipisteiden lukumäärä 0 ja sijainnit: []\n"
     ]
    }
   ],
   "source": [
    "# TODO: Klusterien keskipisteiden hakeminen\n",
    "centroids = []\n",
    "\n",
    "# Tulostetaan klustereiden keskipisteet ja niiden lukumäärä\n",
    "print(f\"Keskipisteiden lukumäärä {len(centroids)} ja sijainnit: {centroids}\")"
   ],
   "metadata": {
    "collapsed": false,
    "pycharm": {
     "name": "#%%\n"
    },
    "ExecuteTime": {
     "end_time": "2024-08-21T11:47:23.011843Z",
     "start_time": "2024-08-21T11:47:22.999875Z"
    }
   },
   "id": "7fb091226a2021a2"
  },
  {
   "cell_type": "markdown",
   "source": [
    "*Klusterien ja keskipisteiden piirtäminen*\n",
    "\n",
    "* Piirretään kaikki datapisteet scatter plot -kuvaajaa käyttäen.\n",
    "* Piirretään lasketut klusterien keskipisteet.\n",
    "Vinkki: `plt.scatter`"
   ],
   "metadata": {
    "collapsed": false,
    "pycharm": {
     "name": "#%% md\n"
    }
   },
   "id": "c128186ad259f33"
  },
  {
   "cell_type": "code",
   "execution_count": 6,
   "outputs": [],
   "source": [
    "# TODO: Piirretään pisteet scatter plot -kuvaajaan\n",
    "\n",
    "# TODO:  Piirretään lasketut klusterien keskipisteet (centroids)\n"
   ],
   "metadata": {
    "collapsed": false,
    "pycharm": {
     "name": "#%%\n"
    },
    "ExecuteTime": {
     "end_time": "2024-08-21T11:47:23.027802Z",
     "start_time": "2024-08-21T11:47:23.016829Z"
    }
   },
   "id": "54aaf8cb11f464af"
  },
  {
   "cell_type": "markdown",
   "source": [
    "## Tehtävä 2.3\n",
    "### Aihe: K-Means -klusterointi - keskipisteiden määrän asetus (2 pistettä)\n",
    "\n",
    "Asetetaan klusterien keskipisteiden (centroids) määräksi *optimaalinen lukumäärä*.\n",
    "\n",
    "Koska pistejoukko on tehtävässä yksinkertainen, niin optimaalisen klusterien lukumäärän voi tehtävässä nähdä tutkimalla pisteiden jakaantumista kuvion avulla.\n",
    "Optimaalisen klusterimäärän laskemiseen voi halutessaan käyttää myös muita tekniikoita (esim. *Silhouette Coefficient*).\n"
   ],
   "metadata": {
    "collapsed": false,
    "pycharm": {
     "name": "#%% md\n"
    }
   },
   "id": "b0b39d48e71f7a88"
  },
  {
   "cell_type": "code",
   "execution_count": 7,
   "outputs": [
    {
     "name": "stdout",
     "output_type": "stream",
     "text": [
      "Keskipisteiden lukumäärä 0 ja sijainnit: []\n"
     ]
    }
   ],
   "source": [
    "# TODO: Asetetaan optimaalinen klusterimäärä kMeans-klusteroinnille\n",
    "\n",
    "# TODO: Klusterien keskipisteiden hakeminen\n",
    "\n",
    "# Tulostetaan klustereiden keskipisteet ja niiden lukumäärä\n",
    "print(f\"Keskipisteiden lukumäärä {len(centroids)} ja sijainnit: {centroids}\")"
   ],
   "metadata": {
    "collapsed": false,
    "pycharm": {
     "name": "#%%\n"
    },
    "ExecuteTime": {
     "end_time": "2024-08-21T11:47:23.042761Z",
     "start_time": "2024-08-21T11:47:23.030792Z"
    }
   },
   "id": "dd2dfb8fe2ecdb15"
  },
  {
   "cell_type": "markdown",
   "source": [
    "*Klusterien ja keskipisteiden piirtäminen*\n",
    "\n",
    "* Piirretään kaikki datapisteet scatter plot -kuvaajaa käyttäen.\n",
    "* Piirretään lasketut klusterien keskipisteet.\n",
    "Vinkki: `plt.scatter`"
   ],
   "metadata": {
    "collapsed": false,
    "pycharm": {
     "name": "#%% md\n"
    }
   },
   "id": "faeeb1bac5af5bd1"
  },
  {
   "cell_type": "code",
   "execution_count": 8,
   "outputs": [],
   "source": [
    "# TODO: Piirretään pisteet scatter plot kuvaajaan\n",
    "\n",
    "# TODO:  Piirretään lasketut klusterien keskipisteet (centroids)\n"
   ],
   "metadata": {
    "collapsed": false,
    "pycharm": {
     "name": "#%%\n"
    },
    "ExecuteTime": {
     "end_time": "2024-08-21T11:47:23.057723Z",
     "start_time": "2024-08-21T11:47:23.046749Z"
    }
   },
   "id": "473bceac2c6e10a8"
  },
  {
   "cell_type": "markdown",
   "source": [
    "Huom! **KMeans**-algoritmiä voi tuunata seuraavasti alla olevia parametreja muuttaen.\n",
    "\n",
    "    KMeans(algorithm='auto', copy_x=True, init='k-means++', max_iter=300,\n",
    "     n_clusters=2, n_init=10, n_jobs=1, precompute_distances='auto',\n",
    "     random_state=None, tol=0.0001, verbose=0)``"
   ],
   "metadata": {
    "collapsed": false
   },
   "id": "c9404e0f290d1791"
  },
  {
   "cell_type": "markdown",
   "id": "4c6eb76f",
   "metadata": {
    "pycharm": {
     "name": "#%% md\n"
    }
   },
   "source": [
    "## Tehtävä 2.4:\n",
    "### Aihe: Klusterien etäisyydet viivadiagrammina (2 p)\n",
    "\n",
    "Piirretään erikseen jokaisen klusterien sisältämien pisteiden keskimääräiset etäisyydet tietyn klusterin keskustasta (centroid).\n",
    "* Piirrä erikseen tehtävissä 2.2 sekä 2.3 muodostuneet klusterit sekä niiden klustereiden sisältämien pisteiden etäisyys klusterin keskuksesta. \n",
    "* Piirrä kuvio pylväsdiagrammina\n",
    "* Pylväsdiagrammeja tulee kuvioon sama määrä kuin klustereita.  \n",
    "\n",
    "* käytetään piirtämiseen tämän dokumentin alussa annettua `k_mean_distance()`-funktiota\n",
    "\n",
    "Vinkki: `plt.plot`"
   ]
  },
  {
   "cell_type": "code",
   "execution_count": 9,
   "outputs": [],
   "source": [
    "# TODO: Lasketaan ja piirretään klusterien pisteiden keskimääräiset etäisyydet keskustasta\n",
    "distances_from_center = []\n",
    "\n"
   ],
   "metadata": {
    "collapsed": false,
    "pycharm": {
     "name": "#%%\n"
    },
    "ExecuteTime": {
     "end_time": "2024-08-21T11:47:23.073677Z",
     "start_time": "2024-08-21T11:47:23.060712Z"
    }
   },
   "id": "1a7d720f1c703491"
  }
 ],
 "metadata": {
  "jupytext": {
   "cell_metadata_filter": "-all",
   "main_language": "python",
   "notebook_metadata_filter": "-all"
  },
  "kernelspec": {
   "name": "python3",
   "language": "python",
   "display_name": "Python 3 (ipykernel)"
  }
 },
 "nbformat": 4,
 "nbformat_minor": 5
}
