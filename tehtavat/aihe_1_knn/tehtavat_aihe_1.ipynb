{
 "cells": [
  {
   "cell_type": "markdown",
   "metadata": {
    "pycharm": {
     "name": "#%% md\n"
    }
   },
   "source": [
    "# Koneoppiminen: T1: k lähintä naapuria eli kNN Luokittelija (max. 8p)\n",
    "\n",
    "Tutki tehtävää varten myös seuraavat scikit Learn -manuaalisivut:\n",
    "* [Nearest Neighbors](https://scikit-learn.org/stable/modules/neighbors.html)\n",
    "* [KNeighborsClassifier](https://scikit-learn.org/stable/modules/generated/sklearn.neighbors.KNeighborsClassifier.html)\n",
    "\n",
    "## Tehtävä 1.0: Anna Repositoryn oikeudet opettajalle\n",
    "\n",
    "Aseta opettajalle pääsy repositorioon vähintään **Developer**-tasolle.\n",
    "\n",
    "Muista myös kirjoittaa omat tietosi alla olevaan soluun."
   ]
  },
  {
   "cell_type": "code",
   "execution_count": 1,
   "metadata": {
    "tags": [
     "student_info"
    ],
    "pycharm": {
     "name": "#%%\n"
    },
    "ExecuteTime": {
     "end_time": "2024-08-21T11:47:17.324054Z",
     "start_time": "2024-08-21T11:47:17.298134Z"
    }
   },
   "outputs": [],
   "source": [
    "# Kirjoita tähän tietosi!\n",
    "student_name = 'Opiskelijan nimi tai Opiskelijoiden nimet'\n",
    "student_id = 'JAMK-opiskelijatunnus tai JAMK-opiskelijatunnukset'"
   ]
  },
  {
   "cell_type": "markdown",
   "metadata": {
    "pycharm": {
     "name": "#%% md\n"
    }
   },
   "source": [
    "## Tehtävä 1.1\n",
    "### Aihe: Datan esikäsittely (2 pistettä)\n",
    "\n",
    "1. Tutustu **aineistoon** (=*dataset*) *Congressional Voting Records Data Set* osoitteessa [https://archive.ics.uci.edu/ml/datasets/Congressional+Voting+Records](https://archive.ics.uci.edu/ml/datasets/Congressional+Voting+Records).\n",
    "\n",
    "2. Lataa aineisto osoitteesta [https://archive.ics.uci.edu/ml/machine-learning-databases/voting-records/](https://archive.ics.uci.edu/ml/machine-learning-databases/voting-records/). Tallenna datatiedosto samaan hakemistoon, jossa tämä Jupyter Notebook -tiedosto sijaitsee. \n",
    "\n",
    "3. Lataa aineisto Pandasin DataFrame-luokan muuttujaan. Aseta myös sarakkeiden nimet aineiston dokumentaation \"Attribute Information\" -osion mukaisesti. Uudelleen nimeä luokkamuuttuja (puoluesarake) nimikkeellä `'party'`.\n",
    "\n",
    "4. Esikäsittele aineisto:\n",
    "  * Aineistossa ``y == yes, n == no, ? == not answered``.\n",
    "  * Muuta y- ja n-vastaukset numeerisiksi arvoiksi. (``y=1, n=-1``)\n",
    "  * Korvaa myös kysymysmerkein merkityt not answered/ei vastausta -arvot. (``? = 0``)"
   ]
  },
  {
   "cell_type": "code",
   "execution_count": 2,
   "metadata": {
    "pycharm": {
     "name": "#%%\n"
    },
    "ExecuteTime": {
     "end_time": "2024-08-21T11:47:18.652501Z",
     "start_time": "2024-08-21T11:47:17.330039Z"
    }
   },
   "outputs": [],
   "source": [
    "# TODO: Kirjoita toteutuksesi tähän soluun. Tallenna vastauksesi df-muuttujaan.\n",
    "import pandas as pd\n",
    "df = pd.DataFrame({1:['1']})  # TODO: Tämän muuttujan alustuksen voi poistaa, kun aloittaa tehtävän tekemisen\n",
    "\n",
    "# TODO: Aineiston lataaminen. Huomaa, että .data-tiedostossa ei ole otsikkoriviä.\n",
    "\n",
    "# TODO: Sarakkeiden nimeäminen.\n",
    "\n",
    "# TODO: Arvojen muuttaminen numeerisiksi.\n",
    "\n",
    "# TODO: Tyhjien kenttien korvaaminen.\n"
   ]
  },
  {
   "cell_type": "code",
   "execution_count": 3,
   "metadata": {
    "tags": [
     "answer_1_2"
    ],
    "pycharm": {
     "name": "#%%\n"
    },
    "ExecuteTime": {
     "end_time": "2024-08-21T11:47:18.683418Z",
     "start_time": "2024-08-21T11:47:18.657487Z"
    }
   },
   "outputs": [
    {
     "name": "stdout",
     "output_type": "stream",
     "text": [
      "Number of rows: 1\n",
      "Columns: Index([1], dtype='int64')\n",
      "First row by position: 1    1\n",
      "Name: 0, dtype: object\n",
      "Rivien lukumäärä 1\n"
     ]
    }
   ],
   "source": [
    "# Tehtävän vastaukset. Huom! Älä muokkaa tätä solua, vaan aja se, kun olet suorittanut tehtävän. \n",
    "\n",
    "# TODO: Tallenna DataFrame df-muuttujaan.\n",
    "print(f'Number of rows: {len(df)}')\n",
    "print(f'Columns: {df.columns}')\n",
    "print(f'First row by position: {df.iloc[0]}')\n",
    "\n",
    "# TODO: Poista kommentit kahdesta seuraavasti rivistä\n",
    "# print(f'anti-satellite-test-ban unique values: {df[\"anti-satellite-test-ban\"].unique()}')\n",
    "# print(f'export-administration-act-south-africa unique values: {df[\"export-administration-act-south-africa\"].unique()}')\n",
    "\n",
    "# Tulosta rivien lukumäärä\n",
    "print(f'Rivien lukumäärä {df.any(axis=1).sum()}')"
   ]
  },
  {
   "cell_type": "markdown",
   "metadata": {
    "pycharm": {
     "name": "#%% md\n"
    }
   },
   "source": [
    "## Tehtävä 1.2\n",
    "### Aihe: Datan visualisointi (2 pistettä)\n",
    "\n",
    "Huomaatko kuvan avulla eroa eri puolueiden äänestyskäyttäytymisessä?\n",
    "\n",
    "Hyödynnä edellisen tehtävän DataFramea. Piirrä aineistosta **heatmap**, jossa näkyvät ensin republikaanit ja sitten demokraatit allekkain. Kongressiedustajat ovat siis riveinä ja lakikysymykset sarakkeina. \n",
    "\n",
    "Muista, että selkeään esitystapaan kuuluvat myös nimetyt akselit ja kuvaajan otsikko. \n",
    "\n",
    "* Vinkki: voit käyttää esimerkiksi `seaborn`-kirjaston [heatmap-kuvaajaa](https://seaborn.pydata.org/generated/seaborn.heatmap.html).\n",
    "* Vinkki: on järkevää pudottaa luokkamuuttuja pois tätä kuvaa varten (ks. `df.drop()`).\n",
    "* Vinkki: väriasteikon saa nimettyä heatmap-kuvaajaan parametrilla `cbar_kws`."
   ]
  },
  {
   "cell_type": "code",
   "execution_count": 4,
   "metadata": {
    "pycharm": {
     "name": "#%%\n"
    },
    "ExecuteTime": {
     "end_time": "2024-08-21T11:47:18.699375Z",
     "start_time": "2024-08-21T11:47:18.687410Z"
    }
   },
   "outputs": [],
   "source": [
    "# TODO: Kirjoita toteutuksesi tähän soluun. \n",
    "\n",
    "# TODO: Järjestä rivit.\n",
    "\n",
    "# TODO: Piirrä heatmap.\n"
   ]
  },
  {
   "cell_type": "code",
   "execution_count": 5,
   "metadata": {
    "tags": [
     "answer_1_3"
    ],
    "pycharm": {
     "name": "#%%\n"
    },
    "ExecuteTime": {
     "end_time": "2024-08-21T11:47:18.729295Z",
     "start_time": "2024-08-21T11:47:18.705361Z"
    }
   },
   "outputs": [],
   "source": [
    "# Tehtävän vastaukset. Huom! Älä muokkaa tätä solua, vaan aja se, kun olet suorittanut tehtävän. \n",
    "# TODO: Tee ratkaisusi siten, että tämän solun tuloksena näkyy alla kaaviokuva. \n",
    "# TODO: Tallenna kuva muuttujaan ax siten, että ax.figure näyttää sen alla.\n",
    "# ax.figure"
   ]
  },
  {
   "cell_type": "markdown",
   "metadata": {
    "pycharm": {
     "name": "#%% md\n"
    }
   },
   "source": [
    "## Tehtävä 1.3\n",
    "### Aihe: kNN-luokittelija (4 pistettä)\n",
    "\n",
    "Käytä scikit-learn-kirjaston [kNN-luokittelijaa](https://scikit-learn.org/stable/modules/generated/sklearn.neighbors.KNeighborsClassifier.html) löytääksesi aineistosta kongressiedustaja, joka on lähimpänä haettavaa henkilöä .\n",
    "\n",
    "Muista pudottaa luokkamuuttuja (`Party`) pois.\n",
    "\n",
    "Ratkaise tehtävässä alle annetut kysymykset\n",
    "\n",
    "1. Hae kongressiedustajaa, joka vastaisi `y`-vastauksella kaikkiin lakikysymyksiin. Tallenna löydetystä kongressiedustajasta seuraavat tiedot:\n",
    "  * mitä puoluetta lähinnä hän on: `yes_man_party`\n",
    "  * millä todennäköisyydellä hän tätä puoluetta edustaa: `yes_man_proba`\n",
    "  \n",
    "2. Hae kongressiedustaja, joka vastaisi lakikysymyksiin seuraavasti: `y,y,y,n,n,n,n,y,y,n,y,n,n,y,y,y`.\n",
    "  * Tallenna vastaukset vastaaviin muuttujiin `mystery_man_proba` (todennäköisyys) ja `mystery_man_party` (puolue).\n",
    "\n",
    "3. Hae kongressiedustajaa, joka on 100 % varmuudella rebuplikaani-puolueen jäsen:.\n",
    "  * Tallenna vastaukset vastaaviin muuttujiin `re_man_proba` (todennäköisyys) ja `re_man_party` (puolue).\n",
    "\n",
    "**Vinkki**: kun luot kaikkiin `y-`vastauksella vastanneen henkilön vektorin, se tyyppi pitää olla lista listoista: esim. , `[[1,1,1,1...,1]]`.\n",
    "\n",
    "**Vinkki**: muista pudottaa luokkamuuttuja pois kouluttaessasi luokittelijaa."
   ]
  },
  {
   "cell_type": "code",
   "execution_count": 6,
   "metadata": {
    "pycharm": {
     "name": "#%%\n"
    },
    "ExecuteTime": {
     "end_time": "2024-08-21T11:47:18.745252Z",
     "start_time": "2024-08-21T11:47:18.734283Z"
    }
   },
   "outputs": [],
   "source": [
    "# TODO: Kirjoita toteutuksesi tähän soluun.\n",
    "yes_man_party = myst_man_party = re_man_party = None\n",
    "yes_man_proba = myst_man_proba = re_man_proba = None\n",
    "\n",
    "# TODO: Käytä kNN-mallia löytääksesi kongressiedustajan, joka on lähimpänä haettavaa henkilöä\n"
   ]
  },
  {
   "cell_type": "code",
   "execution_count": 7,
   "metadata": {
    "tags": [
     "answer_1_4"
    ],
    "pycharm": {
     "name": "#%%\n"
    },
    "ExecuteTime": {
     "end_time": "2024-08-21T11:47:18.777174Z",
     "start_time": "2024-08-21T11:47:18.749242Z"
    }
   },
   "outputs": [
    {
     "name": "stdout",
     "output_type": "stream",
     "text": [
      "yes man: None None\n",
      "mystery man: None None\n",
      "rebuplican man: None None\n"
     ]
    }
   ],
   "source": [
    " # Tehtävän vastaukset. Huom! Älä muokkaa tätä solua, vaan aja se, kun olet suorittanut tehtävän.\n",
    "\n",
    "# TODO: Tallenna kongressiedustajan tiedot mainittuihin muuttujiin.\n",
    "print(f\"yes man: {yes_man_party} {yes_man_proba}\")\n",
    "print(f\"mystery man: {myst_man_party} {myst_man_proba}\")\n",
    "print(f\"rebuplican man: {re_man_party} {re_man_proba}\")\n"
   ]
  }
 ],
 "metadata": {
  "kernelspec": {
   "display_name": "Python 3",
   "language": "python",
   "name": "python3"
  },
  "language_info": {
   "codemirror_mode": {
    "name": "ipython",
    "version": 3
   },
   "file_extension": ".py",
   "mimetype": "text/x-python",
   "name": "python",
   "nbconvert_exporter": "python",
   "pygments_lexer": "ipython3",
   "version": "3.8.5"
  }
 },
 "nbformat": 4,
 "nbformat_minor": 4
}
