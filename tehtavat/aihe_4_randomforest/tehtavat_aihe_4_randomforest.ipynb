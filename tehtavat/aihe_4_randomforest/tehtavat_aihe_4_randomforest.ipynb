{
 "cells": [
  {
   "cell_type": "markdown",
   "metadata": {
    "pycharm": {
     "name": "#%% md\n"
    }
   },
   "source": [
    "# Koneoppiminen: Tehtävä 4: Satunnaismetsä (max. 10 p)\n",
    "\n",
    "Tässä tehtävässä tulee käyttää Random Forest -menetelmistä sekä **regressio**- että **luokittelumenetelmää**.\n",
    "\n",
    "**Mikä on Random Forest?** Random Forest -menetelmät keskiarvoistavat useita päätöspuita (engl. decision trees), jotka on koulutettu samalla koulutusdatalla, jas niiden tavoitteena on vähentää varianssia. Menetelmissä voi säätää kuinka montaa päätöspuuta käytetään lopputuloksen saamiseen. Päätöspuut aluksi luodaan ja sitten yhdistetään -> kombinaation tuloksena ns. satunnaismetsä."
   ]
  },
  {
   "cell_type": "code",
   "execution_count": 1,
   "metadata": {
    "tags": [
     "student_info"
    ],
    "pycharm": {
     "name": "#%%\n"
    },
    "ExecuteTime": {
     "end_time": "2024-08-21T11:47:24.613559Z",
     "start_time": "2024-08-21T11:47:24.584637Z"
    }
   },
   "outputs": [],
   "source": [
    "# Kirjoita tähän tietosi!\n",
    "student_name = 'Opiskelijan nimi tai Opiskelijoiden nimet'\n",
    "student_id = 'JAMK-opiskelijatunnus tai JAMK-opiskelijatunnukset'"
   ]
  },
  {
   "cell_type": "markdown",
   "source": [
    "Tutki tehtävää varten myös seuraavat scikit Learn -manuaalisivut:\n",
    "* [Decision Trees](https://scikit-learn.org/stable/modules/tree.html)\n",
    "* [Random forests and other randomized tree ensembles](https://scikit-learn.org/stable/modules/ensemble.html#random-forests-and-other-randomized-tree-ensembles)\n",
    "* [RandomForestRegressor](https://scikit-learn.org/stable/modules/generated/sklearn.ensemble.RandomForestRegressor.html#sklearn.ensemble.RandomForestRegressor)\n",
    "* [RandomForestClassifier](https://scikit-learn.org/stable/modules/generated/sklearn.ensemble.RandomForestClassifier.html#sklearn.ensemble.RandomForestClassifier)"
   ],
   "metadata": {
    "collapsed": false
   }
  },
  {
   "cell_type": "markdown",
   "metadata": {
    "pycharm": {
     "name": "#%% md\n"
    }
   },
   "source": [
    "## Tehtävä 4.1\n",
    "### Aihe: Tekstiilityöntekijöiden tuottavuus (2 pistettä)\n",
    "### Aineiston esikäsittely\n",
    "\n",
    "1. Tutustu ja lataa aineisto osoitteesta [https://archive.ics.uci.edu/ml/datasets/Productivity+Prediction+of+Garment+Employees#](https://archive.ics.uci.edu/ml/datasets/Productivity+Prediction+of+Garment+Employees#) . Lataa aineisto Pandas `DataFrame` -taulukkoon.\n",
    "\n",
    "2. Jätä pois ne taustamuuttujat, joilla ei ole lopputuloksen kannalta merkitystä tai niiden merkitys on negatiivinen tuloksen kannalta, analysoitavasta datasta.\n",
    "\n",
    "3. Korvaa aineiston puuttuvat arvot sopivilla arvoilla.\n",
    "\n",
    "4. Normalisoi koulutusaineisto. Älä kuitenkaan normalisoi luokkamuuttujaa.\n",
    "\n",
    "5. Luo lisäksi luokkamuuttuja, joka on arvoltaan `0`, jos tuottavuus on *alle 0.5* ja arvoltaan `1`, jos tuottavuus on *tasan tai yli 0.5*. Tallenna tämä `df`-muuttujaan sarakkeeksi `class`. Muista myös poistaa `class`-luokkamuuttuja *X*-alkuisista mallin syötteistä."
   ]
  },
  {
   "cell_type": "code",
   "execution_count": 2,
   "metadata": {
    "pycharm": {
     "name": "#%%\n"
    },
    "ExecuteTime": {
     "end_time": "2024-08-21T11:47:25.743537Z",
     "start_time": "2024-08-21T11:47:24.617548Z"
    }
   },
   "outputs": [],
   "source": [
    "# TODO: Kirjoita toteutuksesi tähän soluun.\n",
    "# TODO: Esikäsittely\n",
    "import pandas as pd\n",
    "df = pd.DataFrame({0:[0]}) # alustus. Tämän voi poistaa tehtävää tehtäessä.\n"
   ]
  },
  {
   "cell_type": "code",
   "execution_count": 3,
   "metadata": {
    "tags": [
     "answer_6_1"
    ],
    "pycharm": {
     "name": "#%%\n"
    },
    "ExecuteTime": {
     "end_time": "2024-08-21T11:47:25.773457Z",
     "start_time": "2024-08-21T11:47:25.748524Z"
    }
   },
   "outputs": [
    {
     "name": "stdout",
     "output_type": "stream",
     "text": [
      "Columns: Index([0], dtype='int64')\n",
      "First row by position: 0    0\n",
      "Name: 0, dtype: int64\n"
     ]
    }
   ],
   "source": [
    "# Tehtävän vastaukset. Huom! Älä muokkaa tätä solua, vaan aja se, kun olet suorittanut tehtävän. \n",
    "\n",
    "# TODO: Tallenna DataFrame df-muuttujaan ja koulutusaineisto.\n",
    "print(f'Columns: {df.columns}')\n",
    "print(f'First row by position: {df.iloc[0]}')"
   ]
  },
  {
   "cell_type": "markdown",
   "metadata": {
    "pycharm": {
     "name": "#%% md\n"
    }
   },
   "source": [
    "## Tehtävä 4.2\n",
    "### Aihe: Regressio satunnaismetsän avulla (3 pistettä)\n",
    "\n",
    "1. Jaa aineisto koulutus- (70%) ja testausaineistoksi (30%) tallentaen myös luokkamuuttujat omiksi vektoreiksi (`X_train`, `y_train`, `X_test`, `y_test`). Käytä satunnaissiementä `2150`.\n",
    "\n",
    "Vinkki: älä laita sarakkeita `actual_productivity` tai `class` aineistoon `X`-muuttujiin, koska tuottavuus on selvitettävä luokkamuuttujia.\n",
    "\n",
    "2. Käytä `scikit-learn`-kirjaston `ensemble`-moduulin [funktioita](https://scikit-learn.org/stable/modules/classes.html#module-sklearn.ensemble) ja luo regressiomalli satunnaismetsää hyödyntäen. Tehtävässä pyritään ennustamaan `actual_productivity`-muuttujaa. Käytä tässä satunnaissiementä `2100`.\n",
    "\n",
    "3. Ennusta testausaineiston `actual_productivity`. Tallenna selitetty varianssi `exp_var` ja suurin virhe `max_err` kirjaston `metrics`-moduulin työkaluilla."
   ]
  },
  {
   "cell_type": "code",
   "execution_count": 4,
   "metadata": {
    "pycharm": {
     "name": "#%%\n"
    },
    "ExecuteTime": {
     "end_time": "2024-08-21T11:47:25.789415Z",
     "start_time": "2024-08-21T11:47:25.777447Z"
    }
   },
   "outputs": [],
   "source": [
    "# TODO: Kirjoita toteutuksesi tähän soluun.\n",
    "X_test = X_train = pd.DataFrame({0:[0]}) # alustus. Tämän voi poistaa tehtävää tehtäessä.\n",
    "exp_var = max_err = None\n"
   ]
  },
  {
   "cell_type": "code",
   "execution_count": 5,
   "metadata": {
    "tags": [
     "answer_6_2"
    ],
    "pycharm": {
     "name": "#%%\n"
    },
    "ExecuteTime": {
     "end_time": "2024-08-21T11:47:25.820333Z",
     "start_time": "2024-08-21T11:47:25.797393Z"
    }
   },
   "outputs": [
    {
     "name": "stdout",
     "output_type": "stream",
     "text": [
      "Test length: 1\n",
      "Train length: 1\n",
      "Train columns: Index([0], dtype='int64')\n",
      "Explained variance: None\n",
      "Maximum error: None\n"
     ]
    }
   ],
   "source": [
    "# Tehtävän vastaukset. Huom! Älä muokkaa tätä solua, vaan aja se, kun olet suorittanut tehtävän. \n",
    "# TODO: Tallenna vastaukset exp_var- ja max_err-muuttujiin.\n",
    "print(f'Test length: {len(X_test)}')\n",
    "print(f'Train length: {len(X_train)}')\n",
    "print(f'Train columns: {X_train.columns}')\n",
    "print(f'Explained variance: {exp_var}')\n",
    "print(f'Maximum error: {max_err}')"
   ]
  },
  {
   "cell_type": "markdown",
   "metadata": {
    "pycharm": {
     "name": "#%% md\n"
    }
   },
   "source": [
    "## Tehtävä 4.3\n",
    "### Aihe: Luokittelu satunnaismetsän avulla (3 pistettä)\n",
    "\n",
    "1. Muodosta koulutus- ja testausaineisto. Käytä satunnaissiementä `2150`. Huomioi, että nyt ennustetaan `class`-muuttujaa.\n",
    "\n",
    "2. Käytä `scikit-learn`-kirjaston `ensemble`-moduulin [funktioita](https://scikit-learn.org/stable/modules/classes.html#module-sklearn.ensemble) ja luo luokittelumalli satunnaismetsää hyödyntäen. Käytä satunnaissiementä 2100. Yritetään siis ennustaa luokkamuuttujaa `class`.\n",
    "\n",
    "3. Ennusta testausaineiston pohjalta luokkamuuttuja `class`. Luo tarkkuusraportti `cr` ja sekaannusmatriisi `cm` kirjaston `metrics`-moduulin työkaluilla."
   ]
  },
  {
   "cell_type": "code",
   "execution_count": 6,
   "metadata": {
    "pycharm": {
     "name": "#%%\n"
    },
    "ExecuteTime": {
     "end_time": "2024-08-21T11:47:25.835292Z",
     "start_time": "2024-08-21T11:47:25.823331Z"
    }
   },
   "outputs": [],
   "source": [
    "# TODO: Kirjoita toteutuksesi tähän soluun.\n",
    "X_test = X_train = pd.DataFrame() # alustus. Tämän voi poistaa tehtävää tehtäessä.\n",
    "cr = cm = None"
   ]
  },
  {
   "cell_type": "code",
   "execution_count": 7,
   "metadata": {
    "tags": [
     "answer_6_3"
    ],
    "pycharm": {
     "name": "#%%\n"
    },
    "ExecuteTime": {
     "end_time": "2024-08-21T11:47:25.851250Z",
     "start_time": "2024-08-21T11:47:25.839281Z"
    }
   },
   "outputs": [
    {
     "name": "stdout",
     "output_type": "stream",
     "text": [
      "Test length: 0\n",
      "Train length: 0\n",
      "None\n",
      "None\n"
     ]
    }
   ],
   "source": [
    "# Tehtävän vastaukset. Huom! Älä muokkaa tätä solua, vaan aja se, kun olet suorittanut tehtävän. \n",
    "# TODO: Tulokset ovat cm- ja cr-muuttujissa. \n",
    "print(f'Test length: {len(X_test)}')\n",
    "print(f'Train length: {len(X_train)}')\n",
    "print(cr)\n",
    "print(cm)"
   ]
  },
  {
   "cell_type": "markdown",
   "source": [
    "## Tehtävä 4.4\n",
    "### Aihe: Tulosten tulkinta (2 pistettä)\n",
    "\n",
    "**Miksi tuloksia tulkitaan?** Tulosanalyysi on äärimmäisen tärkeää koneoppimisessa. Pelkkä (hyväkään) ratkaisu ei usein sellaisenaan riitä, vaan tulosten merkitys pitää ymmärtää \"liiketoiminnan\" kannalta.\n",
    "\n",
    "Tulkitse sanallisesti saadut testitulokset.\n",
    "* Kuinka hyvin regressio ja luokittelu onnistuivat tässä tehtävässä?\n",
    "* Pohdi myös miten voisit saada parempia luokittelusta?\n",
    "\n",
    "* Vinkki: Voit kokeilla myös päätöspuiden (decision trees) toimivuutta tehtävässä annetun datasetin kanssa.\n",
    "\n",
    "### Vastaus: Tulosten tulkinta\n",
    "\n",
    "* TODO: TULOSTEN SANALLISTA TULKINTAA VASTATEN KYSYMYKSIIN, JOITA TEHTÄVÄSSÄ ESITETTY\n",
    "* TODO: VERTAILUN VOI TEHDÄ SANALLISESTI SAATUJEN TULOSTEN JA KUVIEN AVULLA.\n",
    "* TODO: MUUTAKIN SAA TÄHÄN KOMMENTOIDA TEHTÄVÄÄN LIITTYEN."
   ],
   "metadata": {
    "collapsed": false,
    "pycharm": {
     "name": "#%% md\n"
    }
   }
  }
 ],
 "metadata": {
  "kernelspec": {
   "display_name": "Python 3",
   "language": "python",
   "name": "python3"
  },
  "language_info": {
   "codemirror_mode": {
    "name": "ipython",
    "version": 3
   },
   "file_extension": ".py",
   "mimetype": "text/x-python",
   "name": "python",
   "nbconvert_exporter": "python",
   "pygments_lexer": "ipython3",
   "version": "3.8.5"
  }
 },
 "nbformat": 4,
 "nbformat_minor": 4
}
