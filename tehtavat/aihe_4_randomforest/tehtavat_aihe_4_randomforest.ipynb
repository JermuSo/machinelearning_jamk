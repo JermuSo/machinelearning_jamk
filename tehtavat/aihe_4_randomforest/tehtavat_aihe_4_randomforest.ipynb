{
 "cells": [
  {
   "cell_type": "markdown",
   "metadata": {
    "pycharm": {
     "name": "#%% md\n"
    }
   },
   "source": [
    "# Koneoppiminen: Tehtävä 4: Satunnaismetsä (max. 10 p)\n",
    "\n",
    "Tässä tehtävässä tulee käyttää Random Forest -menetelmistä sekä **regressio**- että **luokittelumenetelmää**.\n",
    "\n",
    "**Mikä on Random Forest?** Random Forest -menetelmät keskiarvoistavat useita päätöspuita (engl. decision trees), jotka on koulutettu samalla koulutusdatalla, jas niiden tavoitteena on vähentää varianssia. Menetelmissä voi säätää kuinka montaa päätöspuuta käytetään lopputuloksen saamiseen. Päätöspuut aluksi luodaan ja sitten yhdistetään -> kombinaation tuloksena ns. satunnaismetsä."
   ]
  },
  {
   "cell_type": "code",
   "execution_count": 1,
   "metadata": {
    "ExecuteTime": {
     "end_time": "2024-08-21T11:47:24.613559Z",
     "start_time": "2024-08-21T11:47:24.584637Z"
    },
    "pycharm": {
     "name": "#%%\n"
    },
    "tags": [
     "student_info"
    ]
   },
   "outputs": [],
   "source": [
    "# Kirjoita tähän tietosi!\n",
    "student_name = 'Jere Soininen'\n",
    "student_id = 'AB6802'"
   ]
  },
  {
   "cell_type": "markdown",
   "metadata": {
    "collapsed": false,
    "jupyter": {
     "outputs_hidden": false
    }
   },
   "source": [
    "Tutki tehtävää varten myös seuraavat scikit Learn -manuaalisivut:\n",
    "* [Decision Trees](https://scikit-learn.org/stable/modules/tree.html)\n",
    "* [Random forests and other randomized tree ensembles](https://scikit-learn.org/stable/modules/ensemble.html#random-forests-and-other-randomized-tree-ensembles)\n",
    "* [RandomForestRegressor](https://scikit-learn.org/stable/modules/generated/sklearn.ensemble.RandomForestRegressor.html#sklearn.ensemble.RandomForestRegressor)\n",
    "* [RandomForestClassifier](https://scikit-learn.org/stable/modules/generated/sklearn.ensemble.RandomForestClassifier.html#sklearn.ensemble.RandomForestClassifier)"
   ]
  },
  {
   "cell_type": "markdown",
   "metadata": {
    "pycharm": {
     "name": "#%% md\n"
    }
   },
   "source": [
    "## Tehtävä 4.1\n",
    "### Aihe: Tekstiilityöntekijöiden tuottavuus (2 pistettä)\n",
    "### Aineiston esikäsittely\n",
    "\n",
    "1. Tutustu ja lataa aineisto osoitteesta [https://archive.ics.uci.edu/ml/datasets/Productivity+Prediction+of+Garment+Employees#](https://archive.ics.uci.edu/ml/datasets/Productivity+Prediction+of+Garment+Employees#) . Lataa aineisto Pandas `DataFrame` -taulukkoon.\n",
    "\n",
    "2. Jätä pois ne taustamuuttujat, joilla ei ole lopputuloksen kannalta merkitystä tai niiden merkitys on negatiivinen tuloksen kannalta, analysoitavasta datasta.\n",
    "\n",
    "3. Korvaa aineiston puuttuvat arvot sopivilla arvoilla.\n",
    "\n",
    "4. Normalisoi koulutusaineisto. Älä kuitenkaan normalisoi luokkamuuttujaa.\n",
    "\n",
    "5. Luo lisäksi luokkamuuttuja, joka on arvoltaan `0`, jos tuottavuus on *alle 0.5* ja arvoltaan `1`, jos tuottavuus on *tasan tai yli 0.5*. Tallenna tämä `df`-muuttujaan sarakkeeksi `class`. Muista myös poistaa `class`-luokkamuuttuja *X*-alkuisista mallin syötteistä."
   ]
  },
  {
   "cell_type": "code",
   "execution_count": 10,
   "metadata": {
    "ExecuteTime": {
     "end_time": "2024-08-21T11:47:25.743537Z",
     "start_time": "2024-08-21T11:47:24.617548Z"
    },
    "pycharm": {
     "name": "#%%\n"
    }
   },
   "outputs": [
    {
     "name": "stdout",
     "output_type": "stream",
     "text": [
      "506\n"
     ]
    }
   ],
   "source": [
    "# TODO: Kirjoita toteutuksesi tähän soluun.\n",
    "# TODO: Esikäsittely\n",
    "import pandas as pd\n",
    "from sklearn.preprocessing import MinMaxScaler\n",
    "#df = pd.DataFrame({0:[0]}) # alustus. Tämän voi poistaa tehtävää tehtäessä.\n",
    "\n",
    "df = pd.read_csv('../../data/productivity+prediction+of+garment+employees/garments_worker_productivity.csv')\n",
    "# Ensin ajattelin että olisi hyvä säilyttää date ja quarter mukana, mutta tein niistä kokeluksi skaalatut numerot ja\n",
    "# huomasin ettei ne olleet niin tärkeitä että olisi ollut kannattavaa sotkea koodia ja dataa niin paljoa joten\n",
    "# teen tämän helpoksi ja poitsan epänumeeriset kolumnit alkuun (myös \"metatieto\" 2p tästä kohdasta viittaisi yksinkertaiseen\n",
    "# ratkaisuun)\n",
    "df = df.drop(columns=['date', 'day', 'quarter', 'department', 'team'])\n",
    "print(df.isna().sum().sum())\n",
    "df = df.fillna(df.mean())\n",
    "# Normalisoi koulutusaineisto, mutta ei luokkamuuttujaa\n",
    "scaler = MinMaxScaler()\n",
    "df[df.columns.difference(['actual_productivity'])] = scaler.fit_transform(df[df.columns.difference(['actual_productivity'])])\n",
    "\n",
    "# Luo luokkamuuttuja tuottavuuden perusteella\n",
    "df['class'] = df['actual_productivity'].apply(lambda x: 1 if x >= 0.5 else 0)\n",
    "\n",
    "#df.head()"
   ]
  },
  {
   "cell_type": "code",
   "execution_count": 3,
   "metadata": {
    "ExecuteTime": {
     "end_time": "2024-08-21T11:47:25.773457Z",
     "start_time": "2024-08-21T11:47:25.748524Z"
    },
    "pycharm": {
     "name": "#%%\n"
    },
    "tags": [
     "answer_6_1"
    ]
   },
   "outputs": [
    {
     "name": "stdout",
     "output_type": "stream",
     "text": [
      "Columns: Index(['targeted_productivity', 'smv', 'wip', 'over_time', 'incentive',\n",
      "       'idle_time', 'idle_men', 'no_of_style_change', 'no_of_workers',\n",
      "       'actual_productivity', 'class'],\n",
      "      dtype='object')\n",
      "First row by position: targeted_productivity    1.000000\n",
      "smv                      0.450252\n",
      "wip                      0.047631\n",
      "over_time                0.273148\n",
      "incentive                0.027222\n",
      "idle_time                0.000000\n",
      "idle_men                 0.000000\n",
      "no_of_style_change       0.000000\n",
      "no_of_workers            0.655172\n",
      "actual_productivity      0.940725\n",
      "class                    1.000000\n",
      "Name: 0, dtype: float64\n"
     ]
    }
   ],
   "source": [
    "# Tehtävän vastaukset. Huom! Älä muokkaa tätä solua, vaan aja se, kun olet suorittanut tehtävän. \n",
    "\n",
    "# TODO: Tallenna DataFrame df-muuttujaan ja koulutusaineisto.\n",
    "print(f'Columns: {df.columns}')\n",
    "print(f'First row by position: {df.iloc[0]}')"
   ]
  },
  {
   "cell_type": "markdown",
   "metadata": {
    "pycharm": {
     "name": "#%% md\n"
    }
   },
   "source": [
    "## Tehtävä 4.2\n",
    "### Aihe: Regressio satunnaismetsän avulla (3 pistettä)\n",
    "\n",
    "1. Jaa aineisto koulutus- (70%) ja testausaineistoksi (30%) tallentaen myös luokkamuuttujat omiksi vektoreiksi (`X_train`, `y_train`, `X_test`, `y_test`). Käytä satunnaissiementä `2150`.\n",
    "\n",
    "Vinkki: älä laita sarakkeita `actual_productivity` tai `class` aineistoon `X`-muuttujiin, koska tuottavuus on selvitettävä luokkamuuttujia.\n",
    "\n",
    "2. Käytä `scikit-learn`-kirjaston `ensemble`-moduulin [funktioita](https://scikit-learn.org/stable/modules/classes.html#module-sklearn.ensemble) ja luo regressiomalli satunnaismetsää hyödyntäen. Tehtävässä pyritään ennustamaan `actual_productivity`-muuttujaa. Käytä tässä satunnaissiementä `2100`.\n",
    "\n",
    "3. Ennusta testausaineiston `actual_productivity`. Tallenna selitetty varianssi `exp_var` ja suurin virhe `max_err` kirjaston `metrics`-moduulin työkaluilla."
   ]
  },
  {
   "cell_type": "code",
   "execution_count": 4,
   "metadata": {
    "ExecuteTime": {
     "end_time": "2024-08-21T11:47:25.789415Z",
     "start_time": "2024-08-21T11:47:25.777447Z"
    },
    "pycharm": {
     "name": "#%%\n"
    }
   },
   "outputs": [],
   "source": [
    "# TODO: Kirjoita toteutuksesi tähän soluun.\n",
    "from sklearn.ensemble import RandomForestRegressor\n",
    "from sklearn.model_selection import train_test_split\n",
    "from sklearn.metrics import explained_variance_score, max_error\n",
    "\n",
    "\n",
    "X = df.drop(columns=['actual_productivity', 'class'])\n",
    "y = df['actual_productivity']\n",
    "\n",
    "#X_test = X_train = pd.DataFrame({0:[0]}) # alustus. Tämän voi poistaa tehtävää tehtäessä.\n",
    "exp_var = max_err = None\n",
    "# Split the data into training and testing sets\n",
    "X_train, X_test, y_train, y_test = train_test_split(X, y, test_size=0.3, random_state=2150)\n",
    "\n",
    "# Luo ja kouluta satunnaismetsäregressiomalli\n",
    "model = RandomForestRegressor(random_state=2100)\n",
    "model.fit(X_train, y_train)\n",
    "\n",
    "# Ennusta testausaineiston actual_productivity\n",
    "y_pred = model.predict(X_test)\n",
    "# Laske selitetty varianssi ja suurin virhe\n",
    "exp_var = explained_variance_score(y_test, y_pred)\n",
    "max_err = max_error(y_test, y_pred)\n"
   ]
  },
  {
   "cell_type": "code",
   "execution_count": 5,
   "metadata": {
    "ExecuteTime": {
     "end_time": "2024-08-21T11:47:25.820333Z",
     "start_time": "2024-08-21T11:47:25.797393Z"
    },
    "pycharm": {
     "name": "#%%\n"
    },
    "tags": [
     "answer_6_2"
    ]
   },
   "outputs": [
    {
     "name": "stdout",
     "output_type": "stream",
     "text": [
      "Test length: 360\n",
      "Train length: 837\n",
      "Train columns: Index(['targeted_productivity', 'smv', 'wip', 'over_time', 'incentive',\n",
      "       'idle_time', 'idle_men', 'no_of_style_change', 'no_of_workers'],\n",
      "      dtype='object')\n",
      "Explained variance: 0.4171409045839657\n",
      "Maximum error: 0.6384045033781353\n"
     ]
    }
   ],
   "source": [
    "# Tehtävän vastaukset. Huom! Älä muokkaa tätä solua, vaan aja se, kun olet suorittanut tehtävän. \n",
    "# TODO: Tallenna vastaukset exp_var- ja max_err-muuttujiin.\n",
    "print(f'Test length: {len(X_test)}')\n",
    "print(f'Train length: {len(X_train)}')\n",
    "print(f'Train columns: {X_train.columns}')\n",
    "print(f'Explained variance: {exp_var}')\n",
    "print(f'Maximum error: {max_err}')"
   ]
  },
  {
   "cell_type": "markdown",
   "metadata": {
    "pycharm": {
     "name": "#%% md\n"
    }
   },
   "source": [
    "## Tehtävä 4.3\n",
    "### Aihe: Luokittelu satunnaismetsän avulla (3 pistettä)\n",
    "\n",
    "1. Muodosta koulutus- ja testausaineisto. Käytä satunnaissiementä `2150`. Huomioi, että nyt ennustetaan `class`-muuttujaa.\n",
    "\n",
    "2. Käytä `scikit-learn`-kirjaston `ensemble`-moduulin [funktioita](https://scikit-learn.org/stable/modules/classes.html#module-sklearn.ensemble) ja luo luokittelumalli satunnaismetsää hyödyntäen. Käytä satunnaissiementä 2100. Yritetään siis ennustaa luokkamuuttujaa `class`.\n",
    "\n",
    "3. Ennusta testausaineiston pohjalta luokkamuuttuja `class`. Luo tarkkuusraportti `cr` ja sekaannusmatriisi `cm` kirjaston `metrics`-moduulin työkaluilla."
   ]
  },
  {
   "cell_type": "code",
   "execution_count": 6,
   "metadata": {
    "ExecuteTime": {
     "end_time": "2024-08-21T11:47:25.835292Z",
     "start_time": "2024-08-21T11:47:25.823331Z"
    },
    "pycharm": {
     "name": "#%%\n"
    }
   },
   "outputs": [],
   "source": [
    "# TODO: Kirjoita toteutuksesi tähän soluun.\n",
    "#X_test = X_train = pd.DataFrame() # alustus. Tämän voi poistaa tehtävää tehtäessä.\n",
    "from sklearn.ensemble import RandomForestClassifier\n",
    "from sklearn.metrics import classification_report, confusion_matrix\n",
    "cr = cm = None\n",
    "y = df['class']\n",
    "\n",
    "X_train, X_test, y_train, y_test = train_test_split(X, y, test_size=0.3, random_state=2150)\n",
    "\n",
    "# Luo ja kouluta satunnaismetsäluokittelumalli\n",
    "model = RandomForestClassifier(random_state=2100)\n",
    "model.fit(X_train, y_train)\n",
    "\n",
    "# Ennusta testausaineiston class-muuttuja\n",
    "y_pred = model.predict(X_test)\n",
    "\n",
    "# Luo tarkkuusraportti ja sekaannusmatriisi\n",
    "cr = classification_report(y_test, y_pred)\n",
    "cm = confusion_matrix(y_test, y_pred)"
   ]
  },
  {
   "cell_type": "code",
   "execution_count": 7,
   "metadata": {
    "ExecuteTime": {
     "end_time": "2024-08-21T11:47:25.851250Z",
     "start_time": "2024-08-21T11:47:25.839281Z"
    },
    "pycharm": {
     "name": "#%%\n"
    },
    "tags": [
     "answer_6_3"
    ]
   },
   "outputs": [
    {
     "name": "stdout",
     "output_type": "stream",
     "text": [
      "Test length: 360\n",
      "Train length: 837\n",
      "              precision    recall  f1-score   support\n",
      "\n",
      "           0       0.60      0.41      0.49        44\n",
      "           1       0.92      0.96      0.94       316\n",
      "\n",
      "    accuracy                           0.89       360\n",
      "   macro avg       0.76      0.69      0.71       360\n",
      "weighted avg       0.88      0.89      0.89       360\n",
      "\n",
      "[[ 18  26]\n",
      " [ 12 304]]\n"
     ]
    }
   ],
   "source": [
    "# Tehtävän vastaukset. Huom! Älä muokkaa tätä solua, vaan aja se, kun olet suorittanut tehtävän. \n",
    "# TODO: Tulokset ovat cm- ja cr-muuttujissa. \n",
    "print(f'Test length: {len(X_test)}')\n",
    "print(f'Train length: {len(X_train)}')\n",
    "print(cr)\n",
    "print(cm)"
   ]
  },
  {
   "cell_type": "markdown",
   "metadata": {
    "collapsed": false,
    "jupyter": {
     "outputs_hidden": false
    },
    "pycharm": {
     "name": "#%% md\n"
    }
   },
   "source": [
    "## Tehtävä 4.4\n",
    "### Aihe: Tulosten tulkinta (2 pistettä)\n",
    "\n",
    "**Miksi tuloksia tulkitaan?** Tulosanalyysi on äärimmäisen tärkeää koneoppimisessa. Pelkkä (hyväkään) ratkaisu ei usein sellaisenaan riitä, vaan tulosten merkitys pitää ymmärtää \"liiketoiminnan\" kannalta.\n",
    "\n",
    "Tulkitse sanallisesti saadut testitulokset.\n",
    "* Kuinka hyvin regressio ja luokittelu onnistuivat tässä tehtävässä?\n",
    "* Pohdi myös miten voisit saada parempia luokittelusta?\n",
    "\n",
    "* Vinkki: Voit kokeilla myös päätöspuiden (decision trees) toimivuutta tehtävässä annetun datasetin kanssa.\n",
    "\n",
    "### Vastaus: Tulosten tulkinta\n",
    "\n",
    "Alla pyydettyä rohkeaa ja sekavaa ajattelua näistä tehtävistä. :D\n",
    "\n",
    "#### Regressio\n",
    "\n",
    "Regression explained variance oli 0.417 joka tarkoittaa ymmärtääkseni että malli pystyy selittämään vain 41.7% tulosten vaihtelusta. Se ei ole kovin hyvä.\n",
    "max_err oli 0.638 joka ei myöskään ole ihmeellinen. Mutta miksi näin regression kanssa?\n",
    "\n",
    "\n",
    "Minulla on suht hyvä fiilis käytetyistä ominaisuuksista ja tulokseni olivat teamsista löytyneitten viitteiden sisällä,\n",
    "en siis usko että niissä oli välttämättä vikaa. Ainakin matriisista nähtiin että data ei ollut tasapainossa ja 0\n",
    "arvon ennustus toteutui todella huonosti. Voi olla että regressio ennusti liian rankasti luokkaa 1. Tämä ainakin silmään\n",
    "näyttäisi olevan totta, kun katsoi y_pred tulosteen.\n",
    "\n",
    "Piirsin alle nopeasti decisiontreellä tehdyn saman tehtävän, jossa Explained variance: 0.22375556971144184\n",
    "Maximum error: 0.734280303. Tämä nähdään myös ymmärtääkseni kuvassa. exp_var on pienempi ja monet pisteet ovatkin\n",
    "toistensa päällä, mutta sitten kun menee väärin niin usein menee todella isosti väärin. Oppimateriaalista voisi keksiä pari syytä:\n",
    "\n",
    "* Overfitting: Decision trees have a tendency to overfit the training data, meaning they can memorize the training examples and perform poorly on unseen data\n",
    "\n",
    "* Feature importance: Decision trees may prioritize certain features over others, which can lead to biased feature importance rankings\n",
    "\n",
    "#### Classifier\n",
    "\n",
    "Nähtävissä samoja piirteitä. Tässä accuracy näennäisesti hyvä (89%), mutta oikeastihan tässäkin on nähtävissä \n",
    "datan epäbalanssia. Datapisteitä oli 360, ja niistä 330 ennustettiin luokkaan 1. Tottakai accuracy silloin näyttää\n",
    "hyvälle, vaikka toisen luokan ennustaminen oli surkeaa. Se näkyy suoraan myös f1-scoressa. \n",
    "\n",
    "Miten tätä voisi parantaa molemmille?\n",
    "\n",
    "Ainakin yksi olisi nostaa 0.5 rajaa, jolloin datasta tulisi tasapainoisempi. Jos tämä olisi vaikka minun firma ja haluaisin ennustaa tulevaa todellista tuottavuutta ottaen huomioon nämä featuret, niin nostaisin tässä tätä arvoa sillä huomaan että tämä on liian optimistinen arvo ennustamaan tuottavuuden tilaa.\n",
    "\n",
    "Käytin myös .mean() työkalua puuttuvien arvojen korvaamiseen. Kun alle 0.5 arvoja oli jo valmiiksi paljon vähemmän ja annoin puuttuville arvoilla (n. 500) keskiarvo arvon, se laittoi ykkösluokkaan liikaa dataa? Tämä voisi ainakin vaikuttaa max_err lukuun huomattavasti.\n",
    "\n",
    "Kokeilin myös antaa näille malleille tarkempia parametreja, esim karsin puitten pituuksia. Tämä paransi tuloksia, joten voisi luulla että malli myös tekee overfittingiä josta sanoin aijemmin."
   ]
  },
  {
   "cell_type": "code",
   "execution_count": 8,
   "metadata": {},
   "outputs": [
    {
     "name": "stdout",
     "output_type": "stream",
     "text": [
      "Test length: 360\n",
      "Train length: 837\n",
      "Train columns: Index(['targeted_productivity', 'smv', 'wip', 'over_time', 'incentive',\n",
      "       'idle_time', 'idle_men', 'no_of_style_change', 'no_of_workers'],\n",
      "      dtype='object')\n",
      "Explained variance: 0.22375556971144184\n",
      "Maximum error: 0.734280303\n"
     ]
    },
    {
     "data": {
      "image/png": "[encoded data removed]",
      "text/plain": [
       "<Figure size 1000x300 with 1 Axes>"
      ]
     },
     "metadata": {},
     "output_type": "display_data"
    }
   ],
   "source": [
    "# TODO: Kirjoita toteutuksesi tähän soluun.\n",
    "# import numpy package for arrays and stuff \n",
    "import numpy as np  \n",
    "  \n",
    "# import matplotlib.pyplot for plotting our result \n",
    "import matplotlib.pyplot as plt \n",
    "from sklearn.tree import DecisionTreeRegressor\n",
    "from sklearn.model_selection import train_test_split\n",
    "from sklearn.metrics import explained_variance_score, max_error\n",
    "\n",
    "\n",
    "X = df.drop(columns=['actual_productivity', 'class'])\n",
    "y = df['actual_productivity']\n",
    "\n",
    "#X_test = X_train = pd.DataFrame({0:[0]}) # alustus. Tämän voi poistaa tehtävää tehtäessä.\n",
    "exp_var = max_err = None\n",
    "# Split the data into training and testing sets\n",
    "X_train, X_test, y_train, y_test = train_test_split(X, y, test_size=0.3, random_state=2150)\n",
    "\n",
    "model = DecisionTreeRegressor(random_state=2100)\n",
    "model.fit(X_train, y_train)\n",
    "\n",
    "y_pred = model.predict(X_test)\n",
    "\n",
    "exp_var = explained_variance_score(y_test, y_pred)\n",
    "max_err = max_error(y_test, y_pred)\n",
    "\n",
    "print(f'Test length: {len(X_test)}')\n",
    "print(f'Train length: {len(X_train)}')\n",
    "print(f'Train columns: {X_train.columns}')\n",
    "print(f'Explained variance: {exp_var}')\n",
    "print(f'Maximum error: {max_err}')\n",
    "\n",
    "# Valitaan pienempi datamäärä kuvan selkeydeksi\n",
    "subset_size = 20\n",
    "y_test_subset = y_test[:subset_size]\n",
    "y_pred_subset = y_pred[:subset_size]\n",
    "\n",
    "plt.figure(figsize=(10, 3))\n",
    "\n",
    "plt.scatter(range(subset_size), y_test_subset, color='green', label='Actual', alpha=0.6)\n",
    "\n",
    "plt.scatter(range(subset_size), y_pred_subset, color='blue', label='Predicted', alpha=0.6)\n",
    "\n",
    "# Add labels and title\n",
    "plt.xlabel('Sample Index')\n",
    "plt.ylabel('Productivity')\n",
    "plt.title('Actual vs Predicted Productivity (Subset of 20 Samples)')\n",
    "plt.legend()\n",
    "plt.grid(True)\n",
    "# Show the plot\n",
    "plt.show()\n"
   ]
  },
  {
   "cell_type": "code",
   "execution_count": null,
   "metadata": {},
   "outputs": [],
   "source": []
  }
 ],
 "metadata": {
  "kernelspec": {
   "display_name": "Python 3 (ipykernel)",
   "language": "python",
   "name": "python3"
  },
  "language_info": {
   "codemirror_mode": {
    "name": "ipython",
    "version": 3
   },
   "file_extension": ".py",
   "mimetype": "text/x-python",
   "name": "python",
   "nbconvert_exporter": "python",
   "pygments_lexer": "ipython3",
   "version": "3.11.9"
  }
 },
 "nbformat": 4,
 "nbformat_minor": 4
}
