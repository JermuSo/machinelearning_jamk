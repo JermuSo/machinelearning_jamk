{
 "cells": [
  {
   "cell_type": "markdown",
   "metadata": {
    "pycharm": {
     "name": "#%% md\n"
    }
   },
   "source": [
    "# Koneoppiminen: Tehtävä 3: Naiivi Bayes-luokittelija (max. 9p)\n",
    "\n",
    "Aiheena **Naiivi Bayes -luokittelija**: Naiivit Bayes on ohjattu oppimismenetelmä, joka perustuu Bayesin lauseen soveltamiseen \"naiivilla\" oletuksella ehdollisesta riippumattomuudesta jokaisen ominaisuuden välillä. Huolimatta näennäisesti yksinkertaistetuista oletuksistaan, naiivit Bayes-luokittelijat ovat toimineet hyvin monissa todellisissa tilanteissa, kuuluisa dokumenttien luokittelussa ja roskapostin suodatuksessa."
   ]
  },
  {
   "cell_type": "markdown",
   "source": [
    "**Muista** kirjoittaa alle omat tietosi."
   ],
   "metadata": {
    "collapsed": false,
    "pycharm": {
     "name": "#%% md\n"
    }
   }
  },
  {
   "cell_type": "code",
   "execution_count": 1,
   "metadata": {
    "tags": [
     "student_info"
    ],
    "pycharm": {
     "name": "#%%\n"
    },
    "ExecuteTime": {
     "end_time": "2024-08-21T11:47:18.853963Z",
     "start_time": "2024-08-21T11:47:18.832022Z"
    }
   },
   "outputs": [],
   "source": [
    "# Kirjoita tähän tietosi!\n",
    "student_name = 'Opiskelijan nimi tai Opiskelijoiden nimet'\n",
    "student_id = 'JAMK-opiskelijatunnus tai JAMK-opiskelijatunnukset'"
   ]
  },
  {
   "cell_type": "markdown",
   "source": [
    "Tutki tehtävää varten myös seuraavat scikit Learn -manuaalisivut:\n",
    "* [Naive Bayes](https://scikit-learn.org/stable/modules/naive_bayes.html)\n",
    "* [GaussianNB](https://scikit-learn.org/stable/modules/generated/sklearn.naive_bayes.GaussianNB.html#sklearn.naive_bayes.GaussianNB)\n",
    "\n"
   ],
   "metadata": {
    "collapsed": false
   }
  },
  {
   "cell_type": "markdown",
   "metadata": {
    "pycharm": {
     "name": "#%% md\n"
    }
   },
   "source": [
    "## Tehtävä 3.1\n",
    "### Aihe: Wine Data Set (3 pistettä)\n",
    "\n",
    "Toteuta tehtävä seuraavasti:\n",
    "\n",
    "1. Tutustu *Wine Data Set* -aineistoon osoitteessa [https://archive.ics.uci.edu/ml/datasets/Wine](https://archive.ics.uci.edu/ml/datasets/Wine) .\n",
    "\n",
    "2. Lataa aineisto ja aseta sarakkeiden nimet. \n",
    "\n",
    "3. Jaa aineisto koulutus- ja testausaineistoon käyttäen `scikit-learn`-kirjaston [train_test_split](https://scikit-learn.org/stable/modules/generated/sklearn.model_selection.train_test_split.html)-funktiota.  \n",
    "\n",
    "4. Skaalaa koulutusaineiston sarakkeet välille 0...1 `scikit-learn`-kirjaston `preprocessing`-moduulin [minmax_scale](https://scikit-learn.org/stable/modules/generated/sklearn.preprocessing.minmax_scale.html#sklearn.preprocessing.minmax_scale)-funktiolla.\n",
    "\n",
    "* Tallenna koulutusaineisto ja sen luokkamuuttuja muuttujiin `X_train`, `y_train`,\n",
    "* Tallenna testausaineisto vastaavasti muuttujiin `X_test`, `y_test`.\n",
    "\n",
    "Aseta testausjoukon kooksi `33%` ja satunnaisuuden siemeneksi `2120`.\n",
    "\n",
    "Vinkit:\n",
    "* Vinkki: älä skaalaa luokkamuuttujaa.\n",
    "* Vinkki: luokkamuuttujaa ei saa tallentaa `X`-muuttujiin.\n",
    "\n",
    "Muuttujien nimeämisestä: \n",
    "\n",
    "* X-alkuiset muuttujat ovat ominaisuuksia, joita käytetään mallin syötteenä (input). \n",
    "* Y-alkuiset muuttujat ovat odotettuja tuloksia (labels).\n",
    "* `X_train` ja `X_test` muuttujissa aineisto (dataset) on käytännössä vain jaettu (split) mallin koulutusta ja testaamista varten. \n",
    "* `y_train` ja `y_test` muuttujissa ovat vastaavasti odotetut tulokset (luokkamuuttujan).\n",
    "\n",
    "Koulutus- ja testiaineiston ei tule sisältää samoja datarivejä. Eikä koskaan myöskään luokkamuuttujaa."
   ]
  },
  {
   "cell_type": "code",
   "execution_count": 2,
   "metadata": {
    "pycharm": {
     "name": "#%%\n"
    },
    "ExecuteTime": {
     "end_time": "2024-08-21T11:47:20.381877Z",
     "start_time": "2024-08-21T11:47:18.860945Z"
    }
   },
   "outputs": [],
   "source": [
    "# TODO: Kirjoita toteutuksesi tähän soluun.\n",
    "\n",
    "import pandas as pd\n",
    "X_train = X_test = pd.DataFrame()\n"
   ]
  },
  {
   "cell_type": "code",
   "execution_count": 3,
   "metadata": {
    "tags": [
     "answer_3_1"
    ],
    "pycharm": {
     "name": "#%%\n"
    },
    "ExecuteTime": {
     "end_time": "2024-08-21T11:47:20.428752Z",
     "start_time": "2024-08-21T11:47:20.392847Z"
    }
   },
   "outputs": [
    {
     "name": "stdout",
     "output_type": "stream",
     "text": [
      "X_train columns: RangeIndex(start=0, stop=0, step=1)\n",
      "X_train: Empty DataFrame\n",
      "Columns: []\n",
      "Index: []\n",
      "X_test: Empty DataFrame\n",
      "Columns: []\n",
      "Index: []\n"
     ]
    }
   ],
   "source": [
    "# Tehtävän vastaukset. Huom! Älä muokkaa tätä solua, vaan aja se, kun olet suorittanut tehtävän. \n",
    "# Tallenna vastauksesi X_train- X_test-muuttujiin.\n",
    "print(f'X_train columns: {X_train.columns}')\n",
    "print(f'X_train: {X_train}')\n",
    "print(f'X_test: {X_test}')"
   ]
  },
  {
   "cell_type": "markdown",
   "metadata": {
    "pycharm": {
     "name": "#%% md\n"
    }
   },
   "source": [
    "## Tehtävä 3.2\n",
    "### Aihe: Gaussian Naive Bayes (2 pistettä)\n",
    "\n",
    "Käytä `scikit-learn`-kirjastosta löytyvää *Gaussian Naive Bayes* -menetelmää aineiston luokittelemiseksi.\n",
    "\n",
    "Ennnusta testiaineiston luokka. Tallenna ennusteet `y_pred`-muuttujaan."
   ]
  },
  {
   "cell_type": "code",
   "execution_count": 4,
   "metadata": {
    "pycharm": {
     "name": "#%%\n"
    },
    "ExecuteTime": {
     "end_time": "2024-08-21T11:47:20.459680Z",
     "start_time": "2024-08-21T11:47:20.435733Z"
    }
   },
   "outputs": [],
   "source": [
    "# TODO: Kirjoita toteutuksesi tähän soluun.\n",
    "y_pred = []"
   ]
  },
  {
   "cell_type": "code",
   "execution_count": 5,
   "metadata": {
    "tags": [
     "answer_3_2"
    ],
    "pycharm": {
     "name": "#%%\n"
    },
    "ExecuteTime": {
     "end_time": "2024-08-21T11:47:20.490585Z",
     "start_time": "2024-08-21T11:47:20.468647Z"
    }
   },
   "outputs": [
    {
     "name": "stdout",
     "output_type": "stream",
     "text": [
      "0\n"
     ]
    }
   ],
   "source": [
    "# Tehtävän vastaukset. Huom! Älä muokkaa tätä solua, vaan aja se, kun olet suorittanut tehtävän. \n",
    "# Tallenna ennusteen tulokset y_pred-muuttujaan.\n",
    "print(f'{len(y_pred)}')"
   ]
  },
  {
   "cell_type": "markdown",
   "metadata": {
    "pycharm": {
     "name": "#%% md\n"
    }
   },
   "source": [
    "## Tehtävä 3.3\n",
    "### Aihe: Tarkkuuden mittaaminen (2 pistettä)\n",
    "\n",
    "Hyödynnä `scikit-learn`-kirjaston `metrics`-moduulin funktioita ja laske luokittelutuloksesi **tarkkuus** sekä **sekaannusmatriisi**. Tallenna tarkkuus muuttujaan `acc` ja sekaannusmatriisi muuttujaan `cm`. \n",
    "\n",
    "* Vinkki: onnistumista voit mitata ainoastaan testiaineiston osalta!\n",
    "* Vinkki: Tässä tehtävässä sekaannusmatriisi ja luokittelutuloksen tarkkuus luultavasti kohtalaisen hyviä (90 % -100 % välissä)."
   ]
  },
  {
   "cell_type": "code",
   "execution_count": 6,
   "metadata": {
    "pycharm": {
     "name": "#%%\n"
    },
    "ExecuteTime": {
     "end_time": "2024-08-21T11:47:20.521503Z",
     "start_time": "2024-08-21T11:47:20.498565Z"
    }
   },
   "outputs": [],
   "source": [
    "# TODO: Kirjoita toteutuksesi tähän soluun.\n",
    "acc = cm = None\n",
    "# TODO: luokittelutuloksesi tarkkuus sekä sekaannusmatriisi (confusion matrix)\n"
   ]
  },
  {
   "cell_type": "code",
   "execution_count": 7,
   "metadata": {
    "tags": [
     "answer_3_3"
    ],
    "pycharm": {
     "name": "#%%\n"
    },
    "ExecuteTime": {
     "end_time": "2024-08-21T11:47:20.550424Z",
     "start_time": "2024-08-21T11:47:20.526490Z"
    }
   },
   "outputs": [
    {
     "name": "stdout",
     "output_type": "stream",
     "text": [
      "Accuracy: None\n",
      "Confusion matrix:\n",
      " None\n"
     ]
    }
   ],
   "source": [
    "# Tehtävän vastaukset. Huom! Älä muokkaa tätä solua, vaan aja se, kun olet suorittanut tehtävän. \n",
    "# Tallenna vastauksesi acc- ja cm-muuttujiin.\n",
    "print(f'Accuracy: {acc}')\n",
    "print(f'Confusion matrix:\\n {cm}')"
   ]
  },
  {
   "cell_type": "markdown",
   "source": [
    "## Tehtävä 3.4\n",
    "### Aihe: Tulosten tulkinta (2 pistettä)\n",
    "\n",
    "**Miksi tuloksia tulkitaan?** Tulosanalyysi on äärimmäisen tärkeää koneoppimisessa. Pelkkä (hyväkään) ratkaisu ei usein sellaisenaan riitä, vaan tulosten merkitys pitää ymmärtää \"liiketoiminnan\" kannalta.\n",
    "\n",
    "Tulkitse sanallisesti saadut testitulokset.\n",
    "Kuinka hyvin luokittelu onnistui? Pohdi myös miten valittu koneoppimismenetelmä toimi tässä tehtävässä.\n",
    "\n",
    "* Vinkki: Jos sinulla riittää motivaatiota, niin kokeile ainakin jotakin muuta luokittelumenetelmää tässä tehtävässä. Tämä samalla varmistaa sen, että tässä tehtävässä saadut tulokset ovat \"riittävän hyvät\". "
   ],
   "metadata": {
    "collapsed": false,
    "pycharm": {
     "name": "#%% md\n"
    }
   }
  },
  {
   "cell_type": "markdown",
   "source": [
    "### Vastaus: Tulosten tulkinta\n",
    "\n",
    "* TODO: TULOSTEN SANALLISTA TULKINTAA VASTATEN KYSYMYKSIIN, JOITA TEHTÄVÄSSÄ ESITETTY\n",
    "* TODO: MUUTAKIN SAA TÄHÄN KOMMENTOIDA TEHTÄVÄÄN LIITTYEN.\n",
    "\n",
    "Pohdinnan rivimäärä ei ole ratkaisevaa, mutta harvemmin riittää 1-2 riviä tekstiä, jos tehtävän tuloksia lähtee oikeasti miettimään! "
   ],
   "metadata": {
    "collapsed": false,
    "pycharm": {
     "name": "#%% md\n"
    }
   }
  },
  {
   "cell_type": "markdown",
   "source": [],
   "metadata": {
    "collapsed": false,
    "pycharm": {
     "name": "#%% md\n"
    }
   }
  }
 ],
 "metadata": {
  "kernelspec": {
   "display_name": "Python 3",
   "language": "python",
   "name": "python3"
  },
  "language_info": {
   "codemirror_mode": {
    "name": "ipython",
    "version": 3
   },
   "file_extension": ".py",
   "mimetype": "text/x-python",
   "name": "python",
   "nbconvert_exporter": "python",
   "pygments_lexer": "ipython3",
   "version": "3.8.5"
  }
 },
 "nbformat": 4,
 "nbformat_minor": 4
}
