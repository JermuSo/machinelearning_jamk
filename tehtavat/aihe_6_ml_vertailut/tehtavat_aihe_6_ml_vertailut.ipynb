{
 "cells": [
  {
   "cell_type": "markdown",
   "id": "052ce58c",
   "metadata": {
    "pycharm": {
     "name": "#%% md\n"
    }
   },
   "source": [
    "# Koneoppiminen: Tehtävä 6: Koneoppimismallien vertailu (max 15 p)"
   ]
  },
  {
   "cell_type": "code",
   "execution_count": 1,
   "outputs": [],
   "source": [
    "# Kirjoita tähän tietosi!\n",
    "student_name = 'Opiskelijan nimi tai Opiskelijoiden nimet'\n",
    "student_id = 'JAMK-opiskelijatunnus tai JAMK-opiskelijatunnukset'"
   ],
   "metadata": {
    "collapsed": false,
    "pycharm": {
     "name": "#%%\n"
    },
    "ExecuteTime": {
     "end_time": "2024-08-21T11:47:31.530069Z",
     "start_time": "2024-08-21T11:47:31.499147Z"
    }
   },
   "id": "6a003f0195f9bffc"
  },
  {
   "cell_type": "markdown",
   "source": [
    "\n",
    "Tehtävässä vertaillaan eri koneoppimismenetelmät (kuusi eri menetelmää) samalle datalle.\n",
    "Tallennetaan tulokset ja analysoidaan ne.\n",
    "Esitetään tuloksia myös visuaalisesti (Ennustetarkkuus, sekaannusmatriisi, ROC-käyrä).\n",
    "Lisäksi vertaillaan saatuja tuloksia sekä pohditaan tuloksia sanallisesti."
   ],
   "metadata": {
    "collapsed": false,
    "pycharm": {
     "name": "#%% md\n"
    }
   },
   "id": "619b008c674f3dfb"
  },
  {
   "cell_type": "markdown",
   "source": [
    "## Aineisto: Äänet\n",
    "\n",
    "Tiedostossa [voice.csv](./voice.csv) on mittaustietoja äänistä (kenttien selitykset tiedostossa ovat englanniksi).\n",
    "\n",
    "Pyri ennustamaan kentän `label (male/female)` arvoa muiden kenttien avulla eri koneoppimismenetelmien avulla.\n",
    "\n",
    "Jaa data opetusdataan ja testidataan suhteessa 80/20%.\n",
    "\n",
    "* Tulosta myös kuinka paljon eri kentät vaikuttavat mallin mukaan ennustettavaan muuttujaan (*importances*).\n",
    "* Valitse sitten kaksi tärkeintä selittävää muuttujaa ja tulosta näistä scatter-kaavio niin että *male/female* -pisteet ovat eri värillä.\n",
    "\n",
    "## Tehtävä 6.1\n",
    "### Datan esikäsittely (2 pistettä)\n",
    "\n",
    "Tutustu aineistoon ja toteuta datan esikäsittely.\n",
    "* Esikäsittelyn toteutuksessa kannattaa huomioida, että `male` ja `female` kenttien arvot oltava numeerisia koneoppimisvaiheessa"
   ],
   "metadata": {
    "collapsed": false,
    "pycharm": {
     "name": "#%% md\n"
    }
   },
   "id": "467532e7f2089df1"
  },
  {
   "cell_type": "code",
   "execution_count": 2,
   "id": "ff3b5f94",
   "metadata": {
    "pycharm": {
     "name": "#%%\n"
    },
    "ExecuteTime": {
     "end_time": "2024-08-21T11:47:32.506450Z",
     "start_time": "2024-08-21T11:47:31.539051Z"
    }
   },
   "outputs": [
    {
     "data": {
      "text/plain": "   1\n0  1",
      "text/html": "<div>\n<style scoped>\n    .dataframe tbody tr th:only-of-type {\n        vertical-align: middle;\n    }\n\n    .dataframe tbody tr th {\n        vertical-align: top;\n    }\n\n    .dataframe thead th {\n        text-align: right;\n    }\n</style>\n<table border=\"1\" class=\"dataframe\">\n  <thead>\n    <tr style=\"text-align: right;\">\n      <th></th>\n      <th>1</th>\n    </tr>\n  </thead>\n  <tbody>\n    <tr>\n      <th>0</th>\n      <td>1</td>\n    </tr>\n  </tbody>\n</table>\n</div>"
     },
     "execution_count": 2,
     "metadata": {},
     "output_type": "execute_result"
    }
   ],
   "source": [
    "# TODO: Kirjoita toteutuksesi tähän soluun.\n",
    "import pandas as pd\n",
    "\n",
    "df = pd.DataFrame({1:['1']})  # TODO: Tämän voi poistaa, kun aloittaa tehtävän tekemisen\n",
    "\n",
    "# TODO: Esikäsittelyn toteutus\n",
    "\n",
    "df"
   ]
  },
  {
   "cell_type": "markdown",
   "id": "da6d3eb4",
   "metadata": {
    "pycharm": {
     "name": "#%% md\n"
    }
   },
   "source": [
    "## Tehtävä 6.2\n",
    "### Koulutus- ja testiaineisto (2 pistettä)\n",
    "\n",
    "Tehdään datan jako opetus- ja testijoukkoon sekä skaalataan numeerinen data."
   ]
  },
  {
   "cell_type": "code",
   "execution_count": 3,
   "id": "a6a65456",
   "metadata": {
    "pycharm": {
     "name": "#%%\n"
    },
    "ExecuteTime": {
     "end_time": "2024-08-21T11:47:32.522409Z",
     "start_time": "2024-08-21T11:47:32.508447Z"
    }
   },
   "outputs": [],
   "source": [
    "# TODO: Kirjoita toteutuksesi tähän soluun.\n",
    "\n",
    "X_train = X_test = y_train = y_test = []"
   ]
  },
  {
   "cell_type": "markdown",
   "id": "b375eb66",
   "metadata": {
    "pycharm": {
     "name": "#%% md\n"
    }
   },
   "source": [
    "## Tehtävä 6.3\n",
    "### Mallien rakentaminen (7 pistettä)\n",
    "\n",
    "Ajetaan eri oppimismenetelmät samalle datalle ja tallennetaan tulokset.\n",
    "Tässä tehtävässä käytetään seuraavia menetelmiä:\n",
    "1. Päätöspuu (1p)\n",
    "2. Tukivektorikone eli SVM (1p)\n",
    "3. k lähintä naapuria eli kNN (1p)\n",
    "4. Naiivi Nayes Bayes (1p)\n",
    "5. Satunnaismetsä eli RandomForest (1p)\n",
    "6. PCA - osa 6 esimerkin aihe (2 p)\n",
    "\n",
    "Laske kaikissa menetelmissä luokittelutuloksien **tarkkuus** ja **sekaannusmatriisi**.\n"
   ]
  },
  {
   "cell_type": "code",
   "execution_count": 4,
   "id": "c1b548cd",
   "metadata": {
    "pycharm": {
     "name": "#%%\n"
    },
    "ExecuteTime": {
     "end_time": "2024-08-21T11:47:32.552329Z",
     "start_time": "2024-08-21T11:47:32.528394Z"
    }
   },
   "outputs": [],
   "source": [
    "# TODO: Malli 1: Päätöspuun toteutus"
   ]
  },
  {
   "cell_type": "code",
   "execution_count": 5,
   "outputs": [],
   "source": [
    "# TODO: Malli 2: Tukivektorikoneen toteutus"
   ],
   "metadata": {
    "collapsed": false,
    "pycharm": {
     "name": "#%%\n"
    },
    "ExecuteTime": {
     "end_time": "2024-08-21T11:47:32.568286Z",
     "start_time": "2024-08-21T11:47:32.555320Z"
    }
   },
   "id": "5d8ea946a08e33f0"
  },
  {
   "cell_type": "code",
   "execution_count": 6,
   "outputs": [],
   "source": [
    "# TODO: Malli 3: kNN toteutus"
   ],
   "metadata": {
    "collapsed": false,
    "pycharm": {
     "name": "#%%\n"
    },
    "ExecuteTime": {
     "end_time": "2024-08-21T11:47:32.584244Z",
     "start_time": "2024-08-21T11:47:32.574276Z"
    }
   },
   "id": "1dadd1178f4848ef"
  },
  {
   "cell_type": "code",
   "execution_count": 7,
   "outputs": [],
   "source": [
    "# TODO: Malli 4: Bayes toteutus"
   ],
   "metadata": {
    "collapsed": false,
    "pycharm": {
     "name": "#%%\n"
    },
    "ExecuteTime": {
     "end_time": "2024-08-21T11:47:32.599203Z",
     "start_time": "2024-08-21T11:47:32.588233Z"
    }
   },
   "id": "27dcb12ead103add"
  },
  {
   "cell_type": "code",
   "execution_count": 8,
   "outputs": [],
   "source": [
    "# TODO: Malli 5: Satunnaismetsän toteutus"
   ],
   "metadata": {
    "collapsed": false,
    "pycharm": {
     "name": "#%%\n"
    },
    "ExecuteTime": {
     "end_time": "2024-08-21T11:47:32.614164Z",
     "start_time": "2024-08-21T11:47:32.603193Z"
    }
   },
   "id": "30b5057a910ab23a"
  },
  {
   "cell_type": "code",
   "execution_count": 9,
   "outputs": [],
   "source": [
    "# TODO: Malli 6: PCA yhdistettynä johonkin luokittelumalliin"
   ],
   "metadata": {
    "collapsed": false,
    "pycharm": {
     "name": "#%%\n"
    },
    "ExecuteTime": {
     "end_time": "2024-08-21T11:47:32.630136Z",
     "start_time": "2024-08-21T11:47:32.623142Z"
    }
   },
   "id": "baa70f42aa40fbb6"
  },
  {
   "cell_type": "markdown",
   "source": [
    "## Tehtävä 6.4\n",
    "### Tulosten analysointi ja käsittely (4 p)\n",
    "\n",
    "* Verrataan eri menetelmistä saatuja tuloksia toisiinsa.\n",
    "* Pyri myös hakemaan keskeiset piirteet, jotka positiivisesti vaikuttavat saatuihin tuloksiin. \n",
    "   * Piirrä jokin soveltuva kuvio kahden tärkeimmän selittävän muuttujan avulla.\n",
    "* Piirrä myös ROC - käyrät eri menetelmiä käytettäessä ja vertaa, miten eri koneoppimismenetelmissä etenee..\n",
    "* Sanallinen pohdinta: Miten kehittäisit tai parantaisit mallien saamia oppimistuloksia? Pohdi, mitkä mallit voisit toimia vielä paremmin kuin tehtävissä annetut luokittelumallit?\n",
    "\n",
    "#### Vastaus: Tulosten tulkinta\n",
    "\n",
    "* TODO: MENETELMIEN VERTAILUA VOI TEHDÄ SANALLISESTI SAATUJEN TULOSTEN JA KUVIEN AVULLA.\n",
    "* TODO: TULOSTEN SANALLISTA TULKINTAA VASTATEN KYSYMYKSIIN, JOITA TEHTÄVÄSSÄ ESITETTY\n",
    "* TODO: MUUTAKIN SAA TÄHÄN KOMMENTOIDA TEHTÄVÄÄN LIITTYEN.\n"
   ],
   "metadata": {
    "collapsed": false,
    "pycharm": {
     "name": "#%% md\n"
    }
   },
   "id": "12ca2be5f7ab4835"
  }
 ],
 "metadata": {
  "jupytext": {
   "cell_metadata_filter": "-all",
   "main_language": "python",
   "notebook_metadata_filter": "-all"
  },
  "kernelspec": {
   "name": "python3",
   "language": "python",
   "display_name": "Python 3 (ipykernel)"
  }
 },
 "nbformat": 4,
 "nbformat_minor": 5
}
