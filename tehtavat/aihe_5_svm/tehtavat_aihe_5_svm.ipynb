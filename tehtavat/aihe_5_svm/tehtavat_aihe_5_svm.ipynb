{
 "cells": [
  {
   "cell_type": "markdown",
   "metadata": {
    "pycharm": {
     "name": "#%% md\n"
    }
   },
   "source": [
    "# Koneoppiminen: Tehtävä 5: Tukivektorikone  (max. 10 p)\n",
    "\n",
    "Tukivektorikone (engl. *Support Vector Machine*, **SVM**)\n",
    "* 1990-luvulla kehitetty lineaarinen luokittelumalli.\n",
    "\n",
    "Tutki tehtävää varten myös seuraavat scikit Learn -manuaalisivut:\n",
    "* [Support Vector Machines](https://scikit-learn.org/stable/modules/svm.html)\n",
    "* [LinearSVC](https://scikit-learn.org/stable/modules/generated/sklearn.svm.LinearSVC.html#sklearn.svm.LinearSVC)"
   ]
  },
  {
   "cell_type": "code",
   "execution_count": 1,
   "metadata": {
    "ExecuteTime": {
     "end_time": "2024-08-21T11:47:27.214603Z",
     "start_time": "2024-08-21T11:47:27.196652Z"
    },
    "pycharm": {
     "name": "#%%\n"
    },
    "tags": [
     "student_info"
    ]
   },
   "outputs": [],
   "source": [
    "# Kirjoita tähän tietosi!\n",
    "student_name = 'Jere Soininen'\n",
    "student_id = 'AB6802'"
   ]
  },
  {
   "cell_type": "markdown",
   "metadata": {
    "pycharm": {
     "name": "#%% md\n"
    }
   },
   "source": [
    "## Tehtävä 5.1\n",
    "### Aihe: Syöpätutkimusaineisto (2 pistettä)\n",
    "### Aineiston esikäsittely\n",
    "\n",
    "Aineisto on lähteestä [https://archive.ics.uci.edu/ml/datasets/Breast+Cancer+Wisconsin+%28Original%29](https://archive.ics.uci.edu/ml/datasets/Breast+Cancer+Wisconsin+%28Original%29).\n",
    "* Aineistossa on yhteensä kymmenen (10) piirrettä (ominaisuutta), joiden avulla yritetään tunnistaa rintasyöpää.\n",
    "* Aineistossa on luokkamuuttuja (`class`) viimeisessä sarakkeessa. Muista poistaa luokkamuuttuja `X`-alkuisista mallin syötteistä.\n",
    "\n",
    "Toteuta tehtävä seuraavasti:\n",
    "\n",
    "1. Lataa aineisto `DataFrame`-olioon.\n",
    "2. Nimeä `DataFrame`-olion sarakkeet aineiston mukaisesti.\n",
    "3. Esikäsittele aineisto toteuttaen seuraavat operaatiot\n",
    "   * Arvojen muuttaminen numeerisiksi.\n",
    "   * Tyhjien kenttien (`?`) korvaaminen.\n",
    "5. Skaalaa koulutusaineiston sarakkeiden arvot normalisoimalla. Älä kuitenkaan koskaan skaalaa luokkamuuttujaa."
   ]
  },
  {
   "cell_type": "code",
   "execution_count": 2,
   "metadata": {
    "ExecuteTime": {
     "end_time": "2024-08-21T11:47:28.161071Z",
     "start_time": "2024-08-21T11:47:27.219589Z"
    },
    "pycharm": {
     "name": "#%%\n"
    }
   },
   "outputs": [
    {
     "name": "stdout",
     "output_type": "stream",
     "text": [
      "clump-thickness                int64\n",
      "uniformity-of-cell-size        int64\n",
      "uniformity-of-cell-shape       int64\n",
      "single-epithelial-cell-size    int64\n",
      "bare-nuclei                    int64\n",
      "bland-chromatin                int64\n",
      "normal-nucleoli                int64\n",
      "class                          int64\n",
      "dtype: object\n"
     ]
    },
    {
     "data": {
      "text/html": [
       "<div>\n",
       "<style scoped>\n",
       "    .dataframe tbody tr th:only-of-type {\n",
       "        vertical-align: middle;\n",
       "    }\n",
       "\n",
       "    .dataframe tbody tr th {\n",
       "        vertical-align: top;\n",
       "    }\n",
       "\n",
       "    .dataframe thead th {\n",
       "        text-align: right;\n",
       "    }\n",
       "</style>\n",
       "<table border=\"1\" class=\"dataframe\">\n",
       "  <thead>\n",
       "    <tr style=\"text-align: right;\">\n",
       "      <th></th>\n",
       "      <th>clump-thickness</th>\n",
       "      <th>uniformity-of-cell-size</th>\n",
       "      <th>uniformity-of-cell-shape</th>\n",
       "      <th>single-epithelial-cell-size</th>\n",
       "      <th>bare-nuclei</th>\n",
       "      <th>bland-chromatin</th>\n",
       "      <th>normal-nucleoli</th>\n",
       "      <th>class</th>\n",
       "    </tr>\n",
       "  </thead>\n",
       "  <tbody>\n",
       "    <tr>\n",
       "      <th>0</th>\n",
       "      <td>5</td>\n",
       "      <td>1</td>\n",
       "      <td>1</td>\n",
       "      <td>2</td>\n",
       "      <td>1</td>\n",
       "      <td>3</td>\n",
       "      <td>1</td>\n",
       "      <td>2</td>\n",
       "    </tr>\n",
       "    <tr>\n",
       "      <th>1</th>\n",
       "      <td>5</td>\n",
       "      <td>4</td>\n",
       "      <td>4</td>\n",
       "      <td>7</td>\n",
       "      <td>10</td>\n",
       "      <td>3</td>\n",
       "      <td>2</td>\n",
       "      <td>2</td>\n",
       "    </tr>\n",
       "    <tr>\n",
       "      <th>2</th>\n",
       "      <td>3</td>\n",
       "      <td>1</td>\n",
       "      <td>1</td>\n",
       "      <td>2</td>\n",
       "      <td>2</td>\n",
       "      <td>3</td>\n",
       "      <td>1</td>\n",
       "      <td>2</td>\n",
       "    </tr>\n",
       "    <tr>\n",
       "      <th>3</th>\n",
       "      <td>6</td>\n",
       "      <td>8</td>\n",
       "      <td>8</td>\n",
       "      <td>3</td>\n",
       "      <td>4</td>\n",
       "      <td>3</td>\n",
       "      <td>7</td>\n",
       "      <td>2</td>\n",
       "    </tr>\n",
       "    <tr>\n",
       "      <th>4</th>\n",
       "      <td>4</td>\n",
       "      <td>1</td>\n",
       "      <td>1</td>\n",
       "      <td>2</td>\n",
       "      <td>1</td>\n",
       "      <td>3</td>\n",
       "      <td>1</td>\n",
       "      <td>2</td>\n",
       "    </tr>\n",
       "  </tbody>\n",
       "</table>\n",
       "</div>"
      ],
      "text/plain": [
       "   clump-thickness  uniformity-of-cell-size  uniformity-of-cell-shape  \\\n",
       "0                5                        1                         1   \n",
       "1                5                        4                         4   \n",
       "2                3                        1                         1   \n",
       "3                6                        8                         8   \n",
       "4                4                        1                         1   \n",
       "\n",
       "   single-epithelial-cell-size  bare-nuclei  bland-chromatin  normal-nucleoli  \\\n",
       "0                            2            1                3                1   \n",
       "1                            7           10                3                2   \n",
       "2                            2            2                3                1   \n",
       "3                            3            4                3                7   \n",
       "4                            2            1                3                1   \n",
       "\n",
       "   class  \n",
       "0      2  \n",
       "1      2  \n",
       "2      2  \n",
       "3      2  \n",
       "4      2  "
      ]
     },
     "execution_count": 2,
     "metadata": {},
     "output_type": "execute_result"
    }
   ],
   "source": [
    "# TODO: Kirjoita toteutuksesi tähän soluun.\n",
    "import pandas as pd\n",
    "import numpy as np\n",
    "\n",
    "df = pd.read_csv('../../data/breast+cancer+wisconsin+original/breast-cancer-wisconsin.data', header=None)\n",
    "\n",
    "# TODO: Sarakkeiden nimeäminen.\n",
    "columns = [\n",
    "    'sample-code-number', 'clump-thickness', 'uniformity-of-cell-size', 'uniformity-of-cell-shape', \n",
    "    'marginal-adhesion', 'single-epithelial-cell-size', 'bare-nuclei', 'bland-chromatin', \n",
    "    'normal-nucleoli', 'mitoses', 'class'\n",
    "]\n",
    "\n",
    "df.columns = columns\n",
    "\n",
    "# pudotetaan kolumnit joissa feature_importance alle 2.5%\n",
    "df = df.drop(columns=['sample-code-number', 'marginal-adhesion', 'mitoses'])\n",
    "\n",
    "# Puuttuvan datan korvaaminen aihetti tässä vähän päänvaivaa. Onko parempi muuttaa puuttuvat arvot nolliksi vai esimerkiksi\n",
    "# sarakkeen mediaaneiksi (tässä tajusin että olisi ehkä pitänyt muuntaa viime tehtävässä puuttuvat median mukaan eikä mean)\n",
    "# kysyin tekoälyltä bare-nuclei merkitystä ja sain käsityksen että se voi olla tärkeä ominaisuus tässä mittauksessa\n",
    "# päättelin että mediaaniarvo on paras korvaaja ja sillä mennään, mediaaniksi kuitenkin tuli 1 joten ehkä tämän olisi voinut tehdä yksinkertaisemmin mutta tehty jo\n",
    "df['bare-nuclei'] = df['bare-nuclei'].replace('?', pd.NA)\n",
    "df['bare-nuclei'] = pd.to_numeric(df['bare-nuclei'], errors='coerce')\n",
    "df['bare-nuclei'] = df['bare-nuclei'].fillna(df['bare-nuclei'].median())\n",
    "df['bare-nuclei'] = df['bare-nuclei'].astype('int64')\n",
    "\n",
    "\n",
    "X = df.drop(columns=['class'])\n",
    "y = df['class']\n",
    "# teen skaalaamisen seuraavassa kohdassa\n",
    "# TODO: Aineiston tulostaminen. Älä poista rivejä \n",
    "print(df.dtypes)\n",
    "df.head()"
   ]
  },
  {
   "cell_type": "code",
   "execution_count": 3,
   "metadata": {
    "ExecuteTime": {
     "end_time": "2024-08-21T11:47:28.177066Z",
     "start_time": "2024-08-21T11:47:28.164066Z"
    },
    "pycharm": {
     "name": "#%%\n"
    },
    "tags": [
     "answer_4_1"
    ]
   },
   "outputs": [
    {
     "name": "stdout",
     "output_type": "stream",
     "text": [
      "Columns: Index(['clump-thickness', 'uniformity-of-cell-size',\n",
      "       'uniformity-of-cell-shape', 'single-epithelial-cell-size',\n",
      "       'bare-nuclei', 'bland-chromatin', 'normal-nucleoli', 'class'],\n",
      "      dtype='object')\n",
      "First row by position: clump-thickness                5\n",
      "uniformity-of-cell-size        1\n",
      "uniformity-of-cell-shape       1\n",
      "single-epithelial-cell-size    2\n",
      "bare-nuclei                    1\n",
      "bland-chromatin                3\n",
      "normal-nucleoli                1\n",
      "class                          2\n",
      "Name: 0, dtype: int64\n"
     ]
    }
   ],
   "source": [
    "# Tehtävän vastaukset. Huom! Älä muokkaa tätä solua, vaan aja se, kun olet suorittanut tehtävän. \n",
    "# TODO: DataFramen tulisi olla df-muuttujassa. \n",
    "print(f'Columns: {df.columns}')\n",
    "print(f'First row by position: {df.iloc[0]}')"
   ]
  },
  {
   "cell_type": "markdown",
   "metadata": {
    "pycharm": {
     "name": "#%% md\n"
    }
   },
   "source": [
    "## Tehtävä 5.2\n",
    "### Aihe: Koulutus- ja testausaineisto (2 pistettä)\n",
    "\n",
    "Jaa aineisto koulutus- ja testausaineistoon käyttäen `scikit-learn`-kirjaston [train_test_split](https://scikit-learn.org/stable/modules/generated/sklearn.model_selection.train_test_split.html)-funktiota.\n",
    "Laita aineistosta opetusaineistoon **75%**.\n",
    "\n",
    "1. Tallenna koulutusaineisto ja sen luokkamuuttuja muuttujiin `X_train`, `y_train`,\n",
    "2. Tallenna testausaineiston muuttujiin `X_test`, `y_test`.\n",
    "\n",
    "Jos aineistossa mielestäsi tarpeettomia muuttujia, ne kannattaa poistaa tässä vaiheessa. Poistamisen voi tehdä myöhemminkin kokeilemalla ensin ajaa mallia ja vertaamalla saatujen tulosten tarkkuutta.\n",
    "\n",
    "Käytä satunnaissiemenenä lukua `1550` ja testiaineiston kokoa **25%**."
   ]
  },
  {
   "cell_type": "code",
   "execution_count": 4,
   "metadata": {
    "ExecuteTime": {
     "end_time": "2024-08-21T11:47:28.191992Z",
     "start_time": "2024-08-21T11:47:28.181020Z"
    },
    "collapsed": false,
    "jupyter": {
     "outputs_hidden": false
    },
    "pycharm": {
     "name": "#%%\n"
    }
   },
   "outputs": [],
   "source": [
    "from sklearn.model_selection import train_test_split\n",
    "from sklearn.preprocessing import StandardScaler\n",
    "\n",
    "X_train, X_test, y_train, y_test = train_test_split(X, y, test_size=0.25, random_state=1550)\n",
    "ss = StandardScaler()\n",
    "ss.fit(X_train)\n",
    "X_train = ss.transform(X_train)\n",
    "X_test = ss.transform(X_test)"
   ]
  },
  {
   "cell_type": "code",
   "execution_count": 5,
   "metadata": {
    "ExecuteTime": {
     "end_time": "2024-08-21T11:47:28.222906Z",
     "start_time": "2024-08-21T11:47:28.197977Z"
    },
    "pycharm": {
     "name": "#%%\n"
    },
    "tags": [
     "answer_4_2"
    ]
   },
   "outputs": [
    {
     "name": "stdout",
     "output_type": "stream",
     "text": [
      "699\n",
      "524\n",
      "175\n"
     ]
    }
   ],
   "source": [
    "# Tehtävän vastaukset. Huom! Älä muokkaa tätä solua, vaan aja se, kun olet suorittanut tehtävän.\n",
    "#X_test = X_train = pd.DataFrame()\n",
    "print(len(df))\n",
    "print(len(X_train))\n",
    "print(len(X_test))\n",
    "\n",
    "# df_X_train.head()"
   ]
  },
  {
   "cell_type": "markdown",
   "metadata": {
    "pycharm": {
     "name": "#%% md\n"
    }
   },
   "source": [
    "## Tehtävä 5.3\n",
    "### Aihe: Tukivektorikone (3 pistettä)\n",
    "\n",
    "1. Käytä `scikit-learn`-kirjaston *Linear Support Vector Classification* -funktiota [https://scikit-learn.org/stable/modules/svm.html#classification](https://scikit-learn.org/stable/modules/svm.html#classification) kouluttaaksesi koulutusaineistollasi luokittelija, joka erottelee terveet tapaukset sairaistac.\n",
    "\n",
    "2. Tallenna ennusteet testausaineistosi datapisteille `y_pred`-muuttujaan.\n",
    "\n",
    "3. Tee `metrics`-moduulilla [luokitteluraportti](https://scikit-learn.org/stable/modules/generated/sklearn.metrics.classification_report.html) testausaineistosi ennusteille. Tallenna raportti `cr`-muuttujaan. Kannattaa myös tulostaa se, jotta näet itse tulokset.\n",
    "\n",
    "4. Tee `metrics`-moduulilla **sekaannusmatriisi** (_confusion matrix_) ja tallenna se `cm`-muuttujaan."
   ]
  },
  {
   "cell_type": "code",
   "execution_count": 6,
   "metadata": {
    "ExecuteTime": {
     "end_time": "2024-08-21T11:47:28.237869Z",
     "start_time": "2024-08-21T11:47:28.226898Z"
    },
    "pycharm": {
     "name": "#%%\n"
    }
   },
   "outputs": [],
   "source": [
    "# Kirjoita toteutuksesi tähän soluun. \n",
    "from sklearn.svm import LinearSVC\n",
    "from sklearn.metrics import classification_report, confusion_matrix, ConfusionMatrixDisplay\n",
    "\n",
    "cr = cm = None\n",
    "# max_iter default = 1000\n",
    "svm = LinearSVC()\n",
    "svm.fit(X_train, y_train)\n",
    "\n",
    "\n",
    "# tulokset tulostuvat alemmassa solussa\n",
    "y_pred = svm.predict(X_test)\n",
    "cr = classification_report(y_test, y_pred)\n",
    "cm = confusion_matrix(y_test, y_pred)"
   ]
  },
  {
   "cell_type": "code",
   "execution_count": 7,
   "metadata": {
    "ExecuteTime": {
     "end_time": "2024-08-21T11:47:28.253825Z",
     "start_time": "2024-08-21T11:47:28.241857Z"
    },
    "pycharm": {
     "name": "#%%\n"
    },
    "tags": [
     "answer_4_3"
    ]
   },
   "outputs": [
    {
     "name": "stdout",
     "output_type": "stream",
     "text": [
      "Classification report:\n",
      "               precision    recall  f1-score   support\n",
      "\n",
      "           2       0.97      0.99      0.98       109\n",
      "           4       0.98      0.95      0.97        66\n",
      "\n",
      "    accuracy                           0.98       175\n",
      "   macro avg       0.98      0.97      0.98       175\n",
      "weighted avg       0.98      0.98      0.98       175\n",
      "\n",
      "Confusion matrix:\n",
      " [[108   1]\n",
      " [  3  63]]\n"
     ]
    }
   ],
   "source": [
    "# Tehtävän vastaukset. Huom! Älä muokkaa tätä solua, vaan aja se, kun olet suorittanut tehtävän. \n",
    "# Tulokset ovat cm- ja cr-muuttujissa. \n",
    "print(f'Classification report:\\n {cr}')\n",
    "print(f'Confusion matrix:\\n {cm}')"
   ]
  },
  {
   "cell_type": "markdown",
   "metadata": {
    "collapsed": false,
    "jupyter": {
     "outputs_hidden": false
    },
    "pycharm": {
     "name": "#%% md\n"
    }
   },
   "source": [
    "## Tehtävä 5.4\n",
    "### Aihe: Vertailu toiseen menetelmään ja tulosten tulkinta (3 pistettä)\n",
    "\n",
    "Tulkitse sanallisesti saadut testitulokset.\n",
    "* Kuinka hyvin tukivektori onnistui luokittelutehtävässä? \n",
    "* Kokeile vertailun vuoksi mallin opettamista myös jollakin toisella menetelmällä.\n",
    "   * Menetelmä voi olla **kNN** tai **Decision Tree** tai **Random Forest** tai mikä tahansa muut tässä tehtävässä toimiva luokittelumenetelmä.\n",
    "* Piirrä myös **ROC**-käyrä opetuksen edistymisestä.\n",
    "* Vertaa saatuja tuloksia ja tulkitse tulokset sanallisesti.\n",
    "  * Vertaa molempien menetelmien luokittelutuloksien **tarkkuutta** sekä **sekaannusmatriisia** toisiinsa ja analysoi sanallisesti erojen syitä."
   ]
  },
  {
   "cell_type": "markdown",
   "metadata": {
    "collapsed": false,
    "jupyter": {
     "outputs_hidden": false
    },
    "pycharm": {
     "name": "#%% md\n"
    }
   },
   "source": [
    "#### Toisen menetelmän toteutus\n",
    "Tehdään koneoppimismallin opettaminen myös jollakin toisella menetelmällä\n",
    "   * Menetelmä voi olla **kNN** tai **DecisionTree** tai **RandomForest** tai joku muu valitsemasi koneoppimismenetelmä."
   ]
  },
  {
   "cell_type": "code",
   "execution_count": 8,
   "metadata": {
    "ExecuteTime": {
     "end_time": "2024-08-21T11:47:28.268786Z",
     "start_time": "2024-08-21T11:47:28.255818Z"
    },
    "collapsed": false,
    "jupyter": {
     "outputs_hidden": false
    },
    "pycharm": {
     "name": "#%%\n"
    }
   },
   "outputs": [
    {
     "name": "stdout",
     "output_type": "stream",
     "text": [
      "Classification report:\n",
      "               precision    recall  f1-score   support\n",
      "\n",
      "           2       0.99      0.99      0.99       109\n",
      "           4       0.98      0.98      0.98        66\n",
      "\n",
      "    accuracy                           0.99       175\n",
      "   macro avg       0.99      0.99      0.99       175\n",
      "weighted avg       0.99      0.99      0.99       175\n",
      "\n",
      "Confusion matrix:\n",
      " [[108   1]\n",
      " [  1  65]]\n"
     ]
    }
   ],
   "source": [
    "# TODO: Kirjoita toteutuksesi tähän soluun.\n",
    "\n",
    "# TODO: Toisen koneoppimismenetelmä toteutus\n",
    "# TODO: Menetelmä voi olla kNN, DecisionTree, RandomForest tai mikä tahansa muut tässä tehtävässä toimiva menetelmä\n",
    "import numpy as np\n",
    "from sklearn.neighbors import KNeighborsClassifier\n",
    "\n",
    "cr = cm = None\n",
    "k = 7\n",
    "knn = KNeighborsClassifier(n_neighbors=k)\n",
    "knn.fit(X_train, y_train)\n",
    "\n",
    "y_pred = knn.predict(X_test)\n",
    "cr = classification_report(y_test, y_pred)\n",
    "cm = confusion_matrix(y_test, y_pred)\n",
    "\n",
    "print(f'Classification report:\\n {cr}')\n",
    "print(f'Confusion matrix:\\n {cm}')"
   ]
  },
  {
   "cell_type": "code",
   "execution_count": 9,
   "metadata": {},
   "outputs": [
    {
     "data": {
      "image/png": "[encoded data removed]",
      "text/plain": [
       "<Figure size 1200x600 with 2 Axes>"
      ]
     },
     "metadata": {},
     "output_type": "display_data"
    }
   ],
   "source": [
    "from sklearn.metrics import roc_curve, auc\n",
    "import matplotlib.pyplot as plt\n",
    "import numpy as np\n",
    "# AUC = area under curve\n",
    "y_scores_knn = knn.predict_proba(X_test)[:, 1]\n",
    "fpr_knn, tpr_knn, _ = roc_curve(y_test, y_scores_knn, pos_label=4)\n",
    "roc_auc_knn = auc(fpr_knn, tpr_knn)\n",
    "\n",
    "y_scores_svm = svm.decision_function(X_test)\n",
    "fpr_svm, tpr_svm, _ = roc_curve(y_test, y_scores_svm, pos_label=4)\n",
    "roc_auc_svm = auc(fpr_svm, tpr_svm)\n",
    "\n",
    "fig, (ax1, ax2) = plt.subplots(1, 2, figsize=(12, 6))\n",
    "\n",
    "ax1.plot(fpr_knn, tpr_knn, label='KNN ROC-käyrä (AUC = %0.2f)' % roc_auc_knn)\n",
    "ax1.plot([0, 1], [0, 1], linestyle='--')\n",
    "ax1.set_title('ROC KNN')\n",
    "ax1.set_xlabel('FPR')\n",
    "ax1.set_ylabel('TPR')\n",
    "ax1.legend(loc='lower right')\n",
    "\n",
    "ax2.plot(fpr_svm, tpr_svm, label='SVM ROC-käyrä (AUC = %0.2f)' % roc_auc_svm)\n",
    "ax2.plot([0, 1], [0, 1], linestyle='--')\n",
    "ax2.set_title('ROC SVM')\n",
    "ax2.set_xlabel('FPR')\n",
    "ax2.set_ylabel('TPR')\n",
    "ax2.legend(loc='lower right')\n",
    "\n",
    "plt.tight_layout()\n",
    "plt.show()"
   ]
  },
  {
   "cell_type": "code",
   "execution_count": 10,
   "metadata": {},
   "outputs": [
    {
     "name": "stdout",
     "output_type": "stream",
     "text": [
      "Test accuracy: 0.97\n",
      "[[108   1]\n",
      " [  5  61]]\n",
      "              precision    recall  f1-score   support\n",
      "\n",
      "           2       0.96      0.99      0.97       109\n",
      "           4       0.98      0.92      0.95        66\n",
      "\n",
      "    accuracy                           0.97       175\n",
      "   macro avg       0.97      0.96      0.96       175\n",
      "weighted avg       0.97      0.97      0.97       175\n",
      "\n",
      "feature: clump-thickness - relative importance:  4.9 %\n",
      "feature: uniformity-of-cell-size - relative importance: 22.0 %\n",
      "feature: uniformity-of-cell-shape - relative importance: 17.9 %\n",
      "feature: single-epithelial-cell-size - relative importance:  1.5 %\n",
      "feature:  bare-nuclei - relative importance: 32.8 %\n",
      "feature: bland-chromatin - relative importance: 11.1 %\n",
      "feature: normal-nucleoli - relative importance:  9.8 %\n"
     ]
    }
   ],
   "source": [
    "from sklearn.ensemble import RandomForestClassifier\n",
    "\n",
    "model = RandomForestClassifier(max_depth = 5, n_estimators=10, random_state=1)\n",
    "model.fit(X_train, y_train)\n",
    "\n",
    "print(\"Test accuracy: %.2f\" % model.score(X_test, y_test))\n",
    "y_pred = model.predict(X_test)\n",
    "print(confusion_matrix(y_test, y_pred)) # compare realized values with predictions\n",
    "print(classification_report(y_test, y_pred))\n",
    "\n",
    "importances = model.feature_importances_\n",
    "for i in range(len(importances)):\n",
    "     print(\"feature: %12s - relative importance: %4.1f %%\" % (X.columns[i], importances[i] * 100))"
   ]
  },
  {
   "cell_type": "markdown",
   "metadata": {
    "collapsed": false,
    "jupyter": {
     "outputs_hidden": false
    },
    "pycharm": {
     "name": "#%% md\n"
    }
   },
   "source": [
    "#### Mallien vartailu\n",
    "\n",
    "**Miksi tuloksia tulkitaan?** Tulosanalyysi on äärimmäisen tärkeää koneoppimisessa. Pelkkä (hyväkään) ratkaisu ei usein sellaisenaan riitä, vaan tulosten merkitys pitää ymmärtää \"liiketoiminnan\" kannalta.\n",
    "\n",
    "Vertaa eri menetelmistä saatuja tuloksia.\n",
    "  * vertaa menetelmien luokittelutuloksien **tarkkuutta** sekä **sekaannusmatriisia** toisiinsa.\n",
    "\n",
    "Tulkitse tulokset myös sanallisesti."
   ]
  },
  {
   "cell_type": "markdown",
   "metadata": {
    "collapsed": false,
    "jupyter": {
     "outputs_hidden": false
    }
   },
   "source": [
    "### Vastaus: Tulosten tulkinta\n",
    "\n",
    "* TODO: VERTAA MOLEMPIEN MENETELMIEN LUOKITTELUTULOKSIEN TARKKUUTTA SEKÄ SEKAANNUSMATRIISIA TOISIINSA.\n",
    "\n",
    "Molemmat suoriutuivat suht hyvin. Tein myös RandomForestilla luokittelun että nään feature_importancet. Tähän en sen enempää pureudu, mutta se suoriutui ihan okei. RF laittoi 5kpl luokkan kaksi pistettä virheellisesti luokkaan yksi, mikä oli eniten tekemistäni testeistä. Muistan että viime tehtävässä datan epätasapaino sekoitti luokittelua, ja tässäkin se voisi olla syy miksi luokkaa kaksi(4) sijoitettiin enemmän enemmistöön.\n",
    "\n",
    "kNN suoriutui hieman paremmin. f1 score oli kNN:ällä molemmilla luokilla 0.01 parempi. Olisin voinut ajatella että SVM olisi voittanut tämän sillä käytimme lineaarista lajittelua ja meillä oli kaksi luokkaa. Tosin tästä voi myös päätellä että jos SVM pärjäsi hyvin, kNN on myös vahvoilla mutta se on hieman \"joustavampi\"? Lajittelua ei tällöin tehdä niin \"tiukasti\" erottavan hypertason sekä tukivektoreiden avulla ja lähimpiä naapureita katsoen lajittelu on tarkempaa. Tiivistettynä voisi sanoa että knn on parempi mukautumaan vähänkään monimutkaisempiin päätösrajoihin.\n"
   ]
  },
  {
   "cell_type": "markdown",
   "metadata": {
    "collapsed": false,
    "jupyter": {
     "outputs_hidden": false
    },
    "pycharm": {
     "name": "#%% md\n"
    }
   },
   "source": [
    "#### ROC-käyrän piirtäminen\n",
    "\n",
    "ROC-käyrät ovat ylempänä. Molemmissa käyrät ovat nopeasti vasemmassa yläkulmassa. Mitä lähempänä käyrä on vasenta yläkulmaa, sitä tarkemmin malli on onnistunut. SVM kuvassa nähdään vähän enemmän portaikkoa, joka vahvistaa tulkintaamme accuracy_scoresta sekä matriiseista. Jokainen \"porras\" kuvassa tarkoittaa TPR ja FPR osuuksien muuttumista? Ilmeisesti diagonalisesti kulkeva viiva (kNN pieni osuus) tarkoittaa että malli toimii tässä vaiheessa yhtä hyvin kuin satunnainen arvailu. "
   ]
  },
  {
   "cell_type": "code",
   "execution_count": null,
   "metadata": {},
   "outputs": [],
   "source": []
  }
 ],
 "metadata": {
  "celltoolbar": "Tags",
  "kernelspec": {
   "display_name": "Python 3 (ipykernel)",
   "language": "python",
   "name": "python3"
  },
  "language_info": {
   "codemirror_mode": {
    "name": "ipython",
    "version": 3
   },
   "file_extension": ".py",
   "mimetype": "text/x-python",
   "name": "python",
   "nbconvert_exporter": "python",
   "pygments_lexer": "ipython3",
   "version": "3.11.9"
  }
 },
 "nbformat": 4,
 "nbformat_minor": 4
}
