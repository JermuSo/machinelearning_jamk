{
 "cells": [
  {
   "cell_type": "markdown",
   "metadata": {
    "pycharm": {
     "name": "#%% md\n"
    }
   },
   "source": [
    "# Koneoppiminen: Tehtävä 5: Tukivektorikone  (max. 10 p)\n",
    "\n",
    "Tukivektorikone (engl. *Support Vector Machine*, **SVM**)\n",
    "* 1990-luvulla kehitetty lineaarinen luokittelumalli.\n",
    "\n",
    "Tutki tehtävää varten myös seuraavat scikit Learn -manuaalisivut:\n",
    "* [Support Vector Machines](https://scikit-learn.org/stable/modules/svm.html)\n",
    "* [LinearSVC](https://scikit-learn.org/stable/modules/generated/sklearn.svm.LinearSVC.html#sklearn.svm.LinearSVC)"
   ]
  },
  {
   "cell_type": "code",
   "execution_count": 1,
   "metadata": {
    "tags": [
     "student_info"
    ],
    "pycharm": {
     "name": "#%%\n"
    },
    "ExecuteTime": {
     "end_time": "2024-08-21T11:47:27.214603Z",
     "start_time": "2024-08-21T11:47:27.196652Z"
    }
   },
   "outputs": [],
   "source": [
    "# Kirjoita tähän tietosi!\n",
    "student_name = 'Opiskelijan nimi tai Opiskelijoiden nimet'\n",
    "student_id = 'JAMK-opiskelijatunnus tai JAMK-opiskelijatunnukset'"
   ]
  },
  {
   "cell_type": "markdown",
   "metadata": {
    "pycharm": {
     "name": "#%% md\n"
    }
   },
   "source": [
    "## Tehtävä 5.1\n",
    "### Aihe: Syöpätutkimusaineisto (2 pistettä)\n",
    "### Aineiston esikäsittely\n",
    "\n",
    "Aineisto on lähteestä [https://archive.ics.uci.edu/ml/datasets/Breast+Cancer+Wisconsin+%28Original%29](https://archive.ics.uci.edu/ml/datasets/Breast+Cancer+Wisconsin+%28Original%29).\n",
    "* Aineistossa on yhteensä kymmenen (10) piirrettä (ominaisuutta), joiden avulla yritetään tunnistaa rintasyöpää.\n",
    "* Aineistossa on luokkamuuttuja (`class`) viimeisessä sarakkeessa. Muista poistaa luokkamuuttuja `X`-alkuisista mallin syötteistä.\n",
    "\n",
    "Toteuta tehtävä seuraavasti:\n",
    "\n",
    "1. Lataa aineisto `DataFrame`-olioon.\n",
    "2. Nimeä `DataFrame`-olion sarakkeet aineiston mukaisesti.\n",
    "3. Esikäsittele aineisto toteuttaen seuraavat operaatiot\n",
    "   * Arvojen muuttaminen numeerisiksi.\n",
    "   * Tyhjien kenttien (`?`) korvaaminen.\n",
    "5. Skaalaa koulutusaineiston sarakkeiden arvot normalisoimalla. Älä kuitenkaan koskaan skaalaa luokkamuuttujaa."
   ]
  },
  {
   "cell_type": "code",
   "execution_count": 2,
   "metadata": {
    "pycharm": {
     "name": "#%%\n"
    },
    "ExecuteTime": {
     "end_time": "2024-08-21T11:47:28.161071Z",
     "start_time": "2024-08-21T11:47:27.219589Z"
    }
   },
   "outputs": [
    {
     "name": "stdout",
     "output_type": "stream",
     "text": [
      "1    object\n",
      "dtype: object\n"
     ]
    },
    {
     "data": {
      "text/plain": "   1\n0  1",
      "text/html": "<div>\n<style scoped>\n    .dataframe tbody tr th:only-of-type {\n        vertical-align: middle;\n    }\n\n    .dataframe tbody tr th {\n        vertical-align: top;\n    }\n\n    .dataframe thead th {\n        text-align: right;\n    }\n</style>\n<table border=\"1\" class=\"dataframe\">\n  <thead>\n    <tr style=\"text-align: right;\">\n      <th></th>\n      <th>1</th>\n    </tr>\n  </thead>\n  <tbody>\n    <tr>\n      <th>0</th>\n      <td>1</td>\n    </tr>\n  </tbody>\n</table>\n</div>"
     },
     "execution_count": 2,
     "metadata": {},
     "output_type": "execute_result"
    }
   ],
   "source": [
    "# TODO: Kirjoita toteutuksesi tähän soluun.\n",
    "import pandas as pd\n",
    "import numpy as np\n",
    "\n",
    "df = pd.DataFrame({1:['1']})  # TODO: Alustuksen voi poistaa, kun aloittaa tehtävän tekemisen\n",
    "\n",
    "# TODO: Esikäsittelyn toteutus\n",
    "\n",
    "# TODO: Aineiston tulostaminen. Älä poista rivejä \n",
    "print(df.dtypes)\n",
    "df.head()"
   ]
  },
  {
   "cell_type": "code",
   "execution_count": 3,
   "metadata": {
    "tags": [
     "answer_4_1"
    ],
    "pycharm": {
     "name": "#%%\n"
    },
    "ExecuteTime": {
     "end_time": "2024-08-21T11:47:28.177066Z",
     "start_time": "2024-08-21T11:47:28.164066Z"
    }
   },
   "outputs": [
    {
     "name": "stdout",
     "output_type": "stream",
     "text": [
      "Columns: Index([1], dtype='int64')\n",
      "First row by position: 1    1\n",
      "Name: 0, dtype: object\n"
     ]
    }
   ],
   "source": [
    "# Tehtävän vastaukset. Huom! Älä muokkaa tätä solua, vaan aja se, kun olet suorittanut tehtävän. \n",
    "# TODO: DataFramen tulisi olla df-muuttujassa. \n",
    "print(f'Columns: {df.columns}')\n",
    "print(f'First row by position: {df.iloc[0]}')"
   ]
  },
  {
   "cell_type": "markdown",
   "metadata": {
    "pycharm": {
     "name": "#%% md\n"
    }
   },
   "source": [
    "## Tehtävä 5.2\n",
    "### Aihe: Koulutus- ja testausaineisto (2 pistettä)\n",
    "\n",
    "Jaa aineisto koulutus- ja testausaineistoon käyttäen `scikit-learn`-kirjaston [train_test_split](https://scikit-learn.org/stable/modules/generated/sklearn.model_selection.train_test_split.html)-funktiota.\n",
    "Laita aineistosta opetusaineistoon **75%**.\n",
    "\n",
    "1. Tallenna koulutusaineisto ja sen luokkamuuttuja muuttujiin `X_train`, `y_train`,\n",
    "2. Tallenna testausaineiston muuttujiin `X_test`, `y_test`.\n",
    "\n",
    "Jos aineistossa mielestäsi tarpeettomia muuttujia, ne kannattaa poistaa tässä vaiheessa. Poistamisen voi tehdä myöhemminkin kokeilemalla ensin ajaa mallia ja vertaamalla saatujen tulosten tarkkuutta.\n",
    "\n",
    "Käytä satunnaissiemenenä lukua `1550` ja testiaineiston kokoa **25%**."
   ]
  },
  {
   "cell_type": "code",
   "execution_count": 4,
   "outputs": [],
   "source": [
    "# TODO: Kirjoita toteutuksesi tähän soluun.\n",
    "X_test = X_train = None"
   ],
   "metadata": {
    "collapsed": false,
    "pycharm": {
     "name": "#%%\n"
    },
    "ExecuteTime": {
     "end_time": "2024-08-21T11:47:28.191992Z",
     "start_time": "2024-08-21T11:47:28.181020Z"
    }
   }
  },
  {
   "cell_type": "code",
   "execution_count": 5,
   "metadata": {
    "tags": [
     "answer_4_2"
    ],
    "pycharm": {
     "name": "#%%\n"
    },
    "ExecuteTime": {
     "end_time": "2024-08-21T11:47:28.222906Z",
     "start_time": "2024-08-21T11:47:28.197977Z"
    }
   },
   "outputs": [
    {
     "name": "stdout",
     "output_type": "stream",
     "text": [
      "1\n",
      "0\n",
      "0\n"
     ]
    }
   ],
   "source": [
    "# Tehtävän vastaukset. Huom! Älä muokkaa tätä solua, vaan aja se, kun olet suorittanut tehtävän.\n",
    "X_test = X_train = pd.DataFrame()\n",
    "print(len(df))\n",
    "print(len(X_train))\n",
    "print(len(X_test))\n",
    "\n",
    "# df_X_train.head()"
   ]
  },
  {
   "cell_type": "markdown",
   "metadata": {
    "pycharm": {
     "name": "#%% md\n"
    }
   },
   "source": [
    "## Tehtävä 5.3\n",
    "### Aihe: Tukivektorikone (3 pistettä)\n",
    "\n",
    "1. Käytä `scikit-learn`-kirjaston *Linear Support Vector Classification* -funktiota [https://scikit-learn.org/stable/modules/svm.html#classification](https://scikit-learn.org/stable/modules/svm.html#classification) kouluttaaksesi koulutusaineistollasi luokittelija, joka erottelee terveet tapaukset sairaistac.\n",
    "\n",
    "2. Tallenna ennusteet testausaineistosi datapisteille `y_pred`-muuttujaan.\n",
    "\n",
    "3. Tee `metrics`-moduulilla [luokitteluraportti](https://scikit-learn.org/stable/modules/generated/sklearn.metrics.classification_report.html) testausaineistosi ennusteille. Tallenna raportti `cr`-muuttujaan. Kannattaa myös tulostaa se, jotta näet itse tulokset.\n",
    "\n",
    "4. Tee `metrics`-moduulilla **sekaannusmatriisi** (_confusion matrix_) ja tallenna se `cm`-muuttujaan."
   ]
  },
  {
   "cell_type": "code",
   "execution_count": 6,
   "metadata": {
    "pycharm": {
     "name": "#%%\n"
    },
    "ExecuteTime": {
     "end_time": "2024-08-21T11:47:28.237869Z",
     "start_time": "2024-08-21T11:47:28.226898Z"
    }
   },
   "outputs": [],
   "source": [
    "# Kirjoita toteutuksesi tähän soluun. \n",
    "cr = cm = None"
   ]
  },
  {
   "cell_type": "code",
   "execution_count": 7,
   "metadata": {
    "tags": [
     "answer_4_3"
    ],
    "pycharm": {
     "name": "#%%\n"
    },
    "ExecuteTime": {
     "end_time": "2024-08-21T11:47:28.253825Z",
     "start_time": "2024-08-21T11:47:28.241857Z"
    }
   },
   "outputs": [
    {
     "name": "stdout",
     "output_type": "stream",
     "text": [
      "Classification report:\n",
      " None\n",
      "Confusion matrix:\n",
      " None\n"
     ]
    }
   ],
   "source": [
    "# Tehtävän vastaukset. Huom! Älä muokkaa tätä solua, vaan aja se, kun olet suorittanut tehtävän. \n",
    "# Tulokset ovat cm- ja cr-muuttujissa. \n",
    "print(f'Classification report:\\n {cr}')\n",
    "print(f'Confusion matrix:\\n {cm}')"
   ]
  },
  {
   "cell_type": "markdown",
   "source": [
    "## Tehtävä 5.4\n",
    "### Aihe: Vertailu toiseen menetelmään ja tulosten tulkinta (3 pistettä)\n",
    "\n",
    "Tulkitse sanallisesti saadut testitulokset.\n",
    "* Kuinka hyvin tukivektori onnistui luokittelutehtävässä? \n",
    "* Kokeile vertailun vuoksi mallin opettamista myös jollakin toisella menetelmällä.\n",
    "   * Menetelmä voi olla **kNN** tai **Decision Tree** tai **Random Forest** tai mikä tahansa muut tässä tehtävässä toimiva luokittelumenetelmä.\n",
    "* Piirrä myös **ROC**-käyrä opetuksen edistymisestä.\n",
    "* Vertaa saatuja tuloksia ja tulkitse tulokset sanallisesti.\n",
    "  * Vertaa molempien menetelmien luokittelutuloksien **tarkkuutta** sekä **sekaannusmatriisia** toisiinsa ja analysoi sanallisesti erojen syitä."
   ],
   "metadata": {
    "collapsed": false,
    "pycharm": {
     "name": "#%% md\n"
    }
   }
  },
  {
   "cell_type": "markdown",
   "source": [
    "#### Toisen menetelmän toteutus\n",
    "Tehdään koneoppimismallin opettaminen myös jollakin toisella menetelmällä\n",
    "   * Menetelmä voi olla **kNN** tai **DecisionTree** tai **RandomForest** tai joku muu valitsemasi koneoppimismenetelmä."
   ],
   "metadata": {
    "collapsed": false,
    "pycharm": {
     "name": "#%% md\n"
    }
   }
  },
  {
   "cell_type": "code",
   "execution_count": 8,
   "outputs": [
    {
     "name": "stdout",
     "output_type": "stream",
     "text": [
      "Classification report:\n",
      " None\n",
      "Confusion matrix:\n",
      " None\n"
     ]
    }
   ],
   "source": [
    "# TODO: Kirjoita toteutuksesi tähän soluun.\n",
    "\n",
    "# TODO: Toisen koneoppimismenetelmä toteutus\n",
    "# TODO: Menetelmä voi olla kNN, DecisionTree, RandomForest tai mikä tahansa muut tässä tehtävässä toimiva menetelmä\n",
    "\n",
    "print(f'Classification report:\\n {cr}')\n",
    "print(f'Confusion matrix:\\n {cm}')"
   ],
   "metadata": {
    "collapsed": false,
    "pycharm": {
     "name": "#%%\n"
    },
    "ExecuteTime": {
     "end_time": "2024-08-21T11:47:28.268786Z",
     "start_time": "2024-08-21T11:47:28.255818Z"
    }
   }
  },
  {
   "cell_type": "markdown",
   "source": [
    "#### Mallien vartailu\n",
    "\n",
    "**Miksi tuloksia tulkitaan?** Tulosanalyysi on äärimmäisen tärkeää koneoppimisessa. Pelkkä (hyväkään) ratkaisu ei usein sellaisenaan riitä, vaan tulosten merkitys pitää ymmärtää \"liiketoiminnan\" kannalta.\n",
    "\n",
    "Vertaa eri menetelmistä saatuja tuloksia.\n",
    "  * vertaa menetelmien luokittelutuloksien **tarkkuutta** sekä **sekaannusmatriisia** toisiinsa.\n",
    "\n",
    "Tulkitse tulokset myös sanallisesti."
   ],
   "metadata": {
    "collapsed": false,
    "pycharm": {
     "name": "#%% md\n"
    }
   }
  },
  {
   "cell_type": "markdown",
   "source": [
    "### Vastaus: Tulosten tulkinta\n",
    "\n",
    "* TODO: VERTAA MOLEMPIEN MENETELMIEN LUOKITTELUTULOKSIEN TARKKUUTTA SEKÄ SEKAANNUSMATRIISIA TOISIINSA.\n",
    "* TODO: VERTAILUN VOI TEHDÄ SANALLISESTI SAATUJEN TULOSTEN JA KUVIEN AVULLA.\n",
    "* TODO: ANALYSOI JA POHTIA SANALLISESTI SAATUJA TULOKSIA. \n"
   ],
   "metadata": {
    "collapsed": false
   }
  },
  {
   "cell_type": "markdown",
   "source": [
    "#### ROC-käyrän piirtäminen\n",
    "\n",
    "Piirrä ROC-käyrät tukivektorikoneelle ja toiselle valitulle menetelmälle.\n",
    "\n",
    "* Pohdi mitä tuloksista voi päätellä."
   ],
   "metadata": {
    "collapsed": false,
    "pycharm": {
     "name": "#%% md\n"
    }
   }
  },
  {
   "cell_type": "code",
   "execution_count": 9,
   "outputs": [],
   "source": [
    "# TODO: ROC käyrä - SVM\n"
   ],
   "metadata": {
    "collapsed": false,
    "pycharm": {
     "name": "#%%\n"
    },
    "ExecuteTime": {
     "end_time": "2024-08-21T11:47:28.283746Z",
     "start_time": "2024-08-21T11:47:28.271778Z"
    }
   }
  },
  {
   "cell_type": "code",
   "execution_count": 10,
   "outputs": [],
   "source": [
    "# TODO: ROC käyrä - toinen menetelmä\n"
   ],
   "metadata": {
    "collapsed": false,
    "pycharm": {
     "name": "#%%\n"
    },
    "ExecuteTime": {
     "end_time": "2024-08-21T11:47:28.299701Z",
     "start_time": "2024-08-21T11:47:28.286739Z"
    }
   }
  }
 ],
 "metadata": {
  "celltoolbar": "Tags",
  "kernelspec": {
   "display_name": "Python 3",
   "language": "python",
   "name": "python3"
  },
  "language_info": {
   "codemirror_mode": {
    "name": "ipython",
    "version": 3
   },
   "file_extension": ".py",
   "mimetype": "text/x-python",
   "name": "python",
   "nbconvert_exporter": "python",
   "pygments_lexer": "ipython3",
   "version": "3.8.5"
  }
 },
 "nbformat": 4,
 "nbformat_minor": 4
}
